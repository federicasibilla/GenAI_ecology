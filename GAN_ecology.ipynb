{
  "nbformat": 4,
  "nbformat_minor": 0,
  "metadata": {
    "colab": {
      "provenance": [],
      "include_colab_link": true
    },
    "hide_input": false,
    "kernelspec": {
      "display_name": "Python 3",
      "language": "python",
      "name": "python3"
    },
    "language_info": {
      "codemirror_mode": {
        "name": "ipython",
        "version": 3
      },
      "file_extension": ".py",
      "mimetype": "text/x-python",
      "name": "python",
      "nbconvert_exporter": "python",
      "pygments_lexer": "ipython3",
      "version": "3.8.5"
    },
    "latex_envs": {
      "LaTeX_envs_menu_present": true,
      "autoclose": false,
      "autocomplete": true,
      "bibliofile": "biblio.bib",
      "cite_by": "apalike",
      "current_citInitial": 1,
      "eqLabelWithNumbers": true,
      "eqNumInitial": 1,
      "hotkeys": {
        "equation": "Ctrl-E",
        "itemize": "Ctrl-I"
      },
      "labels_anchors": false,
      "latex_user_defs": false,
      "report_style_numbering": false,
      "user_envs_cfg": false
    },
    "toc": {
      "base_numbering": 1,
      "nav_menu": {},
      "number_sections": true,
      "sideBar": false,
      "skip_h1_title": false,
      "title_cell": "Table of Contents",
      "title_sidebar": "Contents",
      "toc_cell": true,
      "toc_position": {
        "height": "100px",
        "left": "1751px",
        "top": "135.7px",
        "width": "169px"
      },
      "toc_section_display": true,
      "toc_window_display": true
    },
    "varInspector": {
      "cols": {
        "lenName": 16,
        "lenType": 16,
        "lenVar": 40
      },
      "kernels_config": {
        "python": {
          "delete_cmd_postfix": "",
          "delete_cmd_prefix": "del ",
          "library": "var_list.py",
          "varRefreshCmd": "print(var_dic_list())"
        },
        "r": {
          "delete_cmd_postfix": ") ",
          "delete_cmd_prefix": "rm(",
          "library": "var_list.r",
          "varRefreshCmd": "cat(var_dic_list()) "
        }
      },
      "types_to_exclude": [
        "module",
        "function",
        "builtin_function_or_method",
        "instance",
        "_Feature"
      ],
      "window_display": false
    },
    "widgets": {
      "application/vnd.jupyter.widget-state+json": {
        "975293d82b654813a11c384e14c8e7d8": {
          "model_module": "@jupyter-widgets/controls",
          "model_name": "HBoxModel",
          "model_module_version": "1.5.0",
          "state": {
            "_dom_classes": [],
            "_model_module": "@jupyter-widgets/controls",
            "_model_module_version": "1.5.0",
            "_model_name": "HBoxModel",
            "_view_count": null,
            "_view_module": "@jupyter-widgets/controls",
            "_view_module_version": "1.5.0",
            "_view_name": "HBoxView",
            "box_style": "",
            "children": [
              "IPY_MODEL_3539870ae23b497cad935d8aa6b3bc88",
              "IPY_MODEL_09cd6307702c48b583e9829520b3f242",
              "IPY_MODEL_f2ca6be2f6c14fd48d7f7a98d70c420d"
            ],
            "layout": "IPY_MODEL_9d5350d9eed843269610c1b7961892c5"
          }
        },
        "3539870ae23b497cad935d8aa6b3bc88": {
          "model_module": "@jupyter-widgets/controls",
          "model_name": "HTMLModel",
          "model_module_version": "1.5.0",
          "state": {
            "_dom_classes": [],
            "_model_module": "@jupyter-widgets/controls",
            "_model_module_version": "1.5.0",
            "_model_name": "HTMLModel",
            "_view_count": null,
            "_view_module": "@jupyter-widgets/controls",
            "_view_module_version": "1.5.0",
            "_view_name": "HTMLView",
            "description": "",
            "description_tooltip": null,
            "layout": "IPY_MODEL_14545be6797e4ffd801213840970f708",
            "placeholder": "​",
            "style": "IPY_MODEL_a85e11cd3389423a8d89f780f934693b",
            "value": "Computing probabilities :: 100%"
          }
        },
        "09cd6307702c48b583e9829520b3f242": {
          "model_module": "@jupyter-widgets/controls",
          "model_name": "FloatProgressModel",
          "model_module_version": "1.5.0",
          "state": {
            "_dom_classes": [],
            "_model_module": "@jupyter-widgets/controls",
            "_model_module_version": "1.5.0",
            "_model_name": "FloatProgressModel",
            "_view_count": null,
            "_view_module": "@jupyter-widgets/controls",
            "_view_module_version": "1.5.0",
            "_view_name": "ProgressView",
            "bar_style": "success",
            "description": "",
            "description_tooltip": null,
            "layout": "IPY_MODEL_ea41948c7194450d86a774daad2e8612",
            "max": 10,
            "min": 0,
            "orientation": "horizontal",
            "style": "IPY_MODEL_05be9774b1f5499a98407aaab300f8aa",
            "value": 10
          }
        },
        "f2ca6be2f6c14fd48d7f7a98d70c420d": {
          "model_module": "@jupyter-widgets/controls",
          "model_name": "HTMLModel",
          "model_module_version": "1.5.0",
          "state": {
            "_dom_classes": [],
            "_model_module": "@jupyter-widgets/controls",
            "_model_module_version": "1.5.0",
            "_model_name": "HTMLModel",
            "_view_count": null,
            "_view_module": "@jupyter-widgets/controls",
            "_view_module_version": "1.5.0",
            "_view_name": "HTMLView",
            "description": "",
            "description_tooltip": null,
            "layout": "IPY_MODEL_f83e360900d14d1e936a49979b0ee0fa",
            "placeholder": "​",
            "style": "IPY_MODEL_3b8fe6ac1f334b71840a2367ce8fb729",
            "value": " 10/10 [01:22&lt;00:00,  9.23s/it]"
          }
        },
        "9d5350d9eed843269610c1b7961892c5": {
          "model_module": "@jupyter-widgets/base",
          "model_name": "LayoutModel",
          "model_module_version": "1.2.0",
          "state": {
            "_model_module": "@jupyter-widgets/base",
            "_model_module_version": "1.2.0",
            "_model_name": "LayoutModel",
            "_view_count": null,
            "_view_module": "@jupyter-widgets/base",
            "_view_module_version": "1.2.0",
            "_view_name": "LayoutView",
            "align_content": null,
            "align_items": null,
            "align_self": null,
            "border": null,
            "bottom": null,
            "display": null,
            "flex": null,
            "flex_flow": null,
            "grid_area": null,
            "grid_auto_columns": null,
            "grid_auto_flow": null,
            "grid_auto_rows": null,
            "grid_column": null,
            "grid_gap": null,
            "grid_row": null,
            "grid_template_areas": null,
            "grid_template_columns": null,
            "grid_template_rows": null,
            "height": null,
            "justify_content": null,
            "justify_items": null,
            "left": null,
            "margin": null,
            "max_height": null,
            "max_width": null,
            "min_height": null,
            "min_width": null,
            "object_fit": null,
            "object_position": null,
            "order": null,
            "overflow": null,
            "overflow_x": null,
            "overflow_y": null,
            "padding": null,
            "right": null,
            "top": null,
            "visibility": null,
            "width": null
          }
        },
        "14545be6797e4ffd801213840970f708": {
          "model_module": "@jupyter-widgets/base",
          "model_name": "LayoutModel",
          "model_module_version": "1.2.0",
          "state": {
            "_model_module": "@jupyter-widgets/base",
            "_model_module_version": "1.2.0",
            "_model_name": "LayoutModel",
            "_view_count": null,
            "_view_module": "@jupyter-widgets/base",
            "_view_module_version": "1.2.0",
            "_view_name": "LayoutView",
            "align_content": null,
            "align_items": null,
            "align_self": null,
            "border": null,
            "bottom": null,
            "display": null,
            "flex": null,
            "flex_flow": null,
            "grid_area": null,
            "grid_auto_columns": null,
            "grid_auto_flow": null,
            "grid_auto_rows": null,
            "grid_column": null,
            "grid_gap": null,
            "grid_row": null,
            "grid_template_areas": null,
            "grid_template_columns": null,
            "grid_template_rows": null,
            "height": null,
            "justify_content": null,
            "justify_items": null,
            "left": null,
            "margin": null,
            "max_height": null,
            "max_width": null,
            "min_height": null,
            "min_width": null,
            "object_fit": null,
            "object_position": null,
            "order": null,
            "overflow": null,
            "overflow_x": null,
            "overflow_y": null,
            "padding": null,
            "right": null,
            "top": null,
            "visibility": null,
            "width": null
          }
        },
        "a85e11cd3389423a8d89f780f934693b": {
          "model_module": "@jupyter-widgets/controls",
          "model_name": "DescriptionStyleModel",
          "model_module_version": "1.5.0",
          "state": {
            "_model_module": "@jupyter-widgets/controls",
            "_model_module_version": "1.5.0",
            "_model_name": "DescriptionStyleModel",
            "_view_count": null,
            "_view_module": "@jupyter-widgets/base",
            "_view_module_version": "1.2.0",
            "_view_name": "StyleView",
            "description_width": ""
          }
        },
        "ea41948c7194450d86a774daad2e8612": {
          "model_module": "@jupyter-widgets/base",
          "model_name": "LayoutModel",
          "model_module_version": "1.2.0",
          "state": {
            "_model_module": "@jupyter-widgets/base",
            "_model_module_version": "1.2.0",
            "_model_name": "LayoutModel",
            "_view_count": null,
            "_view_module": "@jupyter-widgets/base",
            "_view_module_version": "1.2.0",
            "_view_name": "LayoutView",
            "align_content": null,
            "align_items": null,
            "align_self": null,
            "border": null,
            "bottom": null,
            "display": null,
            "flex": null,
            "flex_flow": null,
            "grid_area": null,
            "grid_auto_columns": null,
            "grid_auto_flow": null,
            "grid_auto_rows": null,
            "grid_column": null,
            "grid_gap": null,
            "grid_row": null,
            "grid_template_areas": null,
            "grid_template_columns": null,
            "grid_template_rows": null,
            "height": null,
            "justify_content": null,
            "justify_items": null,
            "left": null,
            "margin": null,
            "max_height": null,
            "max_width": null,
            "min_height": null,
            "min_width": null,
            "object_fit": null,
            "object_position": null,
            "order": null,
            "overflow": null,
            "overflow_x": null,
            "overflow_y": null,
            "padding": null,
            "right": null,
            "top": null,
            "visibility": null,
            "width": null
          }
        },
        "05be9774b1f5499a98407aaab300f8aa": {
          "model_module": "@jupyter-widgets/controls",
          "model_name": "ProgressStyleModel",
          "model_module_version": "1.5.0",
          "state": {
            "_model_module": "@jupyter-widgets/controls",
            "_model_module_version": "1.5.0",
            "_model_name": "ProgressStyleModel",
            "_view_count": null,
            "_view_module": "@jupyter-widgets/base",
            "_view_module_version": "1.2.0",
            "_view_name": "StyleView",
            "bar_color": null,
            "description_width": ""
          }
        },
        "f83e360900d14d1e936a49979b0ee0fa": {
          "model_module": "@jupyter-widgets/base",
          "model_name": "LayoutModel",
          "model_module_version": "1.2.0",
          "state": {
            "_model_module": "@jupyter-widgets/base",
            "_model_module_version": "1.2.0",
            "_model_name": "LayoutModel",
            "_view_count": null,
            "_view_module": "@jupyter-widgets/base",
            "_view_module_version": "1.2.0",
            "_view_name": "LayoutView",
            "align_content": null,
            "align_items": null,
            "align_self": null,
            "border": null,
            "bottom": null,
            "display": null,
            "flex": null,
            "flex_flow": null,
            "grid_area": null,
            "grid_auto_columns": null,
            "grid_auto_flow": null,
            "grid_auto_rows": null,
            "grid_column": null,
            "grid_gap": null,
            "grid_row": null,
            "grid_template_areas": null,
            "grid_template_columns": null,
            "grid_template_rows": null,
            "height": null,
            "justify_content": null,
            "justify_items": null,
            "left": null,
            "margin": null,
            "max_height": null,
            "max_width": null,
            "min_height": null,
            "min_width": null,
            "object_fit": null,
            "object_position": null,
            "order": null,
            "overflow": null,
            "overflow_x": null,
            "overflow_y": null,
            "padding": null,
            "right": null,
            "top": null,
            "visibility": null,
            "width": null
          }
        },
        "3b8fe6ac1f334b71840a2367ce8fb729": {
          "model_module": "@jupyter-widgets/controls",
          "model_name": "DescriptionStyleModel",
          "model_module_version": "1.5.0",
          "state": {
            "_model_module": "@jupyter-widgets/controls",
            "_model_module_version": "1.5.0",
            "_model_name": "DescriptionStyleModel",
            "_view_count": null,
            "_view_module": "@jupyter-widgets/base",
            "_view_module_version": "1.2.0",
            "_view_name": "StyleView",
            "description_width": ""
          }
        },
        "64e7e98b13c547e4b62883334c0f4e03": {
          "model_module": "@jupyter-widgets/controls",
          "model_name": "HBoxModel",
          "model_module_version": "1.5.0",
          "state": {
            "_dom_classes": [],
            "_model_module": "@jupyter-widgets/controls",
            "_model_module_version": "1.5.0",
            "_model_name": "HBoxModel",
            "_view_count": null,
            "_view_module": "@jupyter-widgets/controls",
            "_view_module_version": "1.5.0",
            "_view_name": "HBoxView",
            "box_style": "",
            "children": [
              "IPY_MODEL_828d0418fa534006a25fe1026a4cb951",
              "IPY_MODEL_72f2f4b9241149a5b53aeeff44f55243",
              "IPY_MODEL_ec44eb93fb3645a485d889e81b4dd7fe"
            ],
            "layout": "IPY_MODEL_3b0e65f077484142a105df611c7d19c2"
          }
        },
        "828d0418fa534006a25fe1026a4cb951": {
          "model_module": "@jupyter-widgets/controls",
          "model_name": "HTMLModel",
          "model_module_version": "1.5.0",
          "state": {
            "_dom_classes": [],
            "_model_module": "@jupyter-widgets/controls",
            "_model_module_version": "1.5.0",
            "_model_name": "HTMLModel",
            "_view_count": null,
            "_view_module": "@jupyter-widgets/controls",
            "_view_module_version": "1.5.0",
            "_view_name": "HTMLView",
            "description": "",
            "description_tooltip": null,
            "layout": "IPY_MODEL_cc9a09050c36476e8a831966cdf5fb35",
            "placeholder": "​",
            "style": "IPY_MODEL_5f707851f54a4943b372eccc68f1a09c",
            "value": "Computing probabilities :: 100%"
          }
        },
        "72f2f4b9241149a5b53aeeff44f55243": {
          "model_module": "@jupyter-widgets/controls",
          "model_name": "FloatProgressModel",
          "model_module_version": "1.5.0",
          "state": {
            "_dom_classes": [],
            "_model_module": "@jupyter-widgets/controls",
            "_model_module_version": "1.5.0",
            "_model_name": "FloatProgressModel",
            "_view_count": null,
            "_view_module": "@jupyter-widgets/controls",
            "_view_module_version": "1.5.0",
            "_view_name": "ProgressView",
            "bar_style": "success",
            "description": "",
            "description_tooltip": null,
            "layout": "IPY_MODEL_62db752c5f9543038d9f2c5296b11e3c",
            "max": 30,
            "min": 0,
            "orientation": "horizontal",
            "style": "IPY_MODEL_496534f346584cadb961b3e3d88a84d0",
            "value": 30
          }
        },
        "ec44eb93fb3645a485d889e81b4dd7fe": {
          "model_module": "@jupyter-widgets/controls",
          "model_name": "HTMLModel",
          "model_module_version": "1.5.0",
          "state": {
            "_dom_classes": [],
            "_model_module": "@jupyter-widgets/controls",
            "_model_module_version": "1.5.0",
            "_model_name": "HTMLModel",
            "_view_count": null,
            "_view_module": "@jupyter-widgets/controls",
            "_view_module_version": "1.5.0",
            "_view_name": "HTMLView",
            "description": "",
            "description_tooltip": null,
            "layout": "IPY_MODEL_baa303c2a2eb42cb869f8aeea31f881e",
            "placeholder": "​",
            "style": "IPY_MODEL_5ce831e8052b4f1f99faac93209d4fe0",
            "value": " 30/30 [09:45&lt;00:00, 40.44s/it]"
          }
        },
        "3b0e65f077484142a105df611c7d19c2": {
          "model_module": "@jupyter-widgets/base",
          "model_name": "LayoutModel",
          "model_module_version": "1.2.0",
          "state": {
            "_model_module": "@jupyter-widgets/base",
            "_model_module_version": "1.2.0",
            "_model_name": "LayoutModel",
            "_view_count": null,
            "_view_module": "@jupyter-widgets/base",
            "_view_module_version": "1.2.0",
            "_view_name": "LayoutView",
            "align_content": null,
            "align_items": null,
            "align_self": null,
            "border": null,
            "bottom": null,
            "display": null,
            "flex": null,
            "flex_flow": null,
            "grid_area": null,
            "grid_auto_columns": null,
            "grid_auto_flow": null,
            "grid_auto_rows": null,
            "grid_column": null,
            "grid_gap": null,
            "grid_row": null,
            "grid_template_areas": null,
            "grid_template_columns": null,
            "grid_template_rows": null,
            "height": null,
            "justify_content": null,
            "justify_items": null,
            "left": null,
            "margin": null,
            "max_height": null,
            "max_width": null,
            "min_height": null,
            "min_width": null,
            "object_fit": null,
            "object_position": null,
            "order": null,
            "overflow": null,
            "overflow_x": null,
            "overflow_y": null,
            "padding": null,
            "right": null,
            "top": null,
            "visibility": null,
            "width": null
          }
        },
        "cc9a09050c36476e8a831966cdf5fb35": {
          "model_module": "@jupyter-widgets/base",
          "model_name": "LayoutModel",
          "model_module_version": "1.2.0",
          "state": {
            "_model_module": "@jupyter-widgets/base",
            "_model_module_version": "1.2.0",
            "_model_name": "LayoutModel",
            "_view_count": null,
            "_view_module": "@jupyter-widgets/base",
            "_view_module_version": "1.2.0",
            "_view_name": "LayoutView",
            "align_content": null,
            "align_items": null,
            "align_self": null,
            "border": null,
            "bottom": null,
            "display": null,
            "flex": null,
            "flex_flow": null,
            "grid_area": null,
            "grid_auto_columns": null,
            "grid_auto_flow": null,
            "grid_auto_rows": null,
            "grid_column": null,
            "grid_gap": null,
            "grid_row": null,
            "grid_template_areas": null,
            "grid_template_columns": null,
            "grid_template_rows": null,
            "height": null,
            "justify_content": null,
            "justify_items": null,
            "left": null,
            "margin": null,
            "max_height": null,
            "max_width": null,
            "min_height": null,
            "min_width": null,
            "object_fit": null,
            "object_position": null,
            "order": null,
            "overflow": null,
            "overflow_x": null,
            "overflow_y": null,
            "padding": null,
            "right": null,
            "top": null,
            "visibility": null,
            "width": null
          }
        },
        "5f707851f54a4943b372eccc68f1a09c": {
          "model_module": "@jupyter-widgets/controls",
          "model_name": "DescriptionStyleModel",
          "model_module_version": "1.5.0",
          "state": {
            "_model_module": "@jupyter-widgets/controls",
            "_model_module_version": "1.5.0",
            "_model_name": "DescriptionStyleModel",
            "_view_count": null,
            "_view_module": "@jupyter-widgets/base",
            "_view_module_version": "1.2.0",
            "_view_name": "StyleView",
            "description_width": ""
          }
        },
        "62db752c5f9543038d9f2c5296b11e3c": {
          "model_module": "@jupyter-widgets/base",
          "model_name": "LayoutModel",
          "model_module_version": "1.2.0",
          "state": {
            "_model_module": "@jupyter-widgets/base",
            "_model_module_version": "1.2.0",
            "_model_name": "LayoutModel",
            "_view_count": null,
            "_view_module": "@jupyter-widgets/base",
            "_view_module_version": "1.2.0",
            "_view_name": "LayoutView",
            "align_content": null,
            "align_items": null,
            "align_self": null,
            "border": null,
            "bottom": null,
            "display": null,
            "flex": null,
            "flex_flow": null,
            "grid_area": null,
            "grid_auto_columns": null,
            "grid_auto_flow": null,
            "grid_auto_rows": null,
            "grid_column": null,
            "grid_gap": null,
            "grid_row": null,
            "grid_template_areas": null,
            "grid_template_columns": null,
            "grid_template_rows": null,
            "height": null,
            "justify_content": null,
            "justify_items": null,
            "left": null,
            "margin": null,
            "max_height": null,
            "max_width": null,
            "min_height": null,
            "min_width": null,
            "object_fit": null,
            "object_position": null,
            "order": null,
            "overflow": null,
            "overflow_x": null,
            "overflow_y": null,
            "padding": null,
            "right": null,
            "top": null,
            "visibility": null,
            "width": null
          }
        },
        "496534f346584cadb961b3e3d88a84d0": {
          "model_module": "@jupyter-widgets/controls",
          "model_name": "ProgressStyleModel",
          "model_module_version": "1.5.0",
          "state": {
            "_model_module": "@jupyter-widgets/controls",
            "_model_module_version": "1.5.0",
            "_model_name": "ProgressStyleModel",
            "_view_count": null,
            "_view_module": "@jupyter-widgets/base",
            "_view_module_version": "1.2.0",
            "_view_name": "StyleView",
            "bar_color": null,
            "description_width": ""
          }
        },
        "baa303c2a2eb42cb869f8aeea31f881e": {
          "model_module": "@jupyter-widgets/base",
          "model_name": "LayoutModel",
          "model_module_version": "1.2.0",
          "state": {
            "_model_module": "@jupyter-widgets/base",
            "_model_module_version": "1.2.0",
            "_model_name": "LayoutModel",
            "_view_count": null,
            "_view_module": "@jupyter-widgets/base",
            "_view_module_version": "1.2.0",
            "_view_name": "LayoutView",
            "align_content": null,
            "align_items": null,
            "align_self": null,
            "border": null,
            "bottom": null,
            "display": null,
            "flex": null,
            "flex_flow": null,
            "grid_area": null,
            "grid_auto_columns": null,
            "grid_auto_flow": null,
            "grid_auto_rows": null,
            "grid_column": null,
            "grid_gap": null,
            "grid_row": null,
            "grid_template_areas": null,
            "grid_template_columns": null,
            "grid_template_rows": null,
            "height": null,
            "justify_content": null,
            "justify_items": null,
            "left": null,
            "margin": null,
            "max_height": null,
            "max_width": null,
            "min_height": null,
            "min_width": null,
            "object_fit": null,
            "object_position": null,
            "order": null,
            "overflow": null,
            "overflow_x": null,
            "overflow_y": null,
            "padding": null,
            "right": null,
            "top": null,
            "visibility": null,
            "width": null
          }
        },
        "5ce831e8052b4f1f99faac93209d4fe0": {
          "model_module": "@jupyter-widgets/controls",
          "model_name": "DescriptionStyleModel",
          "model_module_version": "1.5.0",
          "state": {
            "_model_module": "@jupyter-widgets/controls",
            "_model_module_version": "1.5.0",
            "_model_name": "DescriptionStyleModel",
            "_view_count": null,
            "_view_module": "@jupyter-widgets/base",
            "_view_module_version": "1.2.0",
            "_view_name": "StyleView",
            "description_width": ""
          }
        }
      }
    }
  },
  "cells": [
    {
      "cell_type": "markdown",
      "metadata": {
        "id": "view-in-github",
        "colab_type": "text"
      },
      "source": [
        "<a href=\"https://colab.research.google.com/github/federicasibilla/GenAI_ecology/blob/main/GAN_ecology.ipynb\" target=\"_parent\"><img src=\"https://colab.research.google.com/assets/colab-badge.svg\" alt=\"Open In Colab\"/></a>"
      ]
    },
    {
      "cell_type": "markdown",
      "metadata": {
        "id": "wzSHN17mLq_n"
      },
      "source": [
        "#Introduction"
      ]
    },
    {
      "cell_type": "markdown",
      "metadata": {
        "id": "kJ56yWuDMHLK"
      },
      "source": [
        "Mount Google Drive to Save results."
      ]
    },
    {
      "cell_type": "code",
      "metadata": {
        "colab": {
          "base_uri": "https://localhost:8080/"
        },
        "id": "Afa9lZAZJobe",
        "outputId": "2298d977-d9b9-43d7-fe52-f8b89c420a3f"
      },
      "source": [
        "from google.colab import drive\n",
        "\n",
        "drive.mount('/content/gdrive')"
      ],
      "execution_count": 1,
      "outputs": [
        {
          "output_type": "stream",
          "name": "stdout",
          "text": [
            "Mounted at /content/gdrive\n"
          ]
        }
      ]
    },
    {
      "cell_type": "markdown",
      "metadata": {
        "id": "_d9ivw3DMpye"
      },
      "source": [
        "Set directory to store results. Directory **AI4Ecology** is located at the root directory of your drive. It is used by all notebooks."
      ]
    },
    {
      "cell_type": "code",
      "metadata": {
        "id": "xBuKX0thJphf"
      },
      "source": [
        "google_drive_dir = \"/content/gdrive/My Drive/AI4Ecology/\""
      ],
      "execution_count": 2,
      "outputs": []
    },
    {
      "cell_type": "code",
      "metadata": {
        "id": "SsOTVEkEHRXM"
      },
      "source": [
        "import os\n",
        "dir_name = google_drive_dir+'saved_reals'\n",
        "if not os.path.exists(dir_name) :\n",
        "  print(color.RED+\"ERROR: \"+color.END+\" Please run \"+color.BOLD+\"Pre-processing.ipynb\"+\" before running this notebook\")\n"
      ],
      "execution_count": 3,
      "outputs": []
    },
    {
      "cell_type": "markdown",
      "metadata": {
        "id": "ENGUta2glkpg"
      },
      "source": [
        "# Imports"
      ]
    },
    {
      "cell_type": "markdown",
      "metadata": {
        "id": "pGcqzc5RFulo"
      },
      "source": [
        "This notebook uses [Fastai](https://www.fast.ai/), latest version 2.3.0 existing, allows to run smoothly the full notebook."
      ]
    },
    {
      "cell_type": "code",
      "metadata": {
        "ExecuteTime": {
          "end_time": "2021-04-16T10:33:04.287245Z",
          "start_time": "2021-04-16T10:33:02.731057Z"
        },
        "id": "OL9nOjAx-2hD",
        "colab": {
          "base_uri": "https://localhost:8080/",
          "height": 17
        },
        "outputId": "76d73871-5d17-49dd-a411-8ef0de249b98"
      },
      "source": [
        "from IPython.core.display import display, HTML, clear_output\n",
        "display(HTML(\"<style>.container { width:100% !important; } div.cell.selected {border-left-width: 0px !important;}</style>\"))\n",
        "\n",
        "from time import time\n",
        "\n",
        "import os\n",
        "import glob\n",
        "import shutil\n",
        "\n",
        "import numpy as np\n",
        "import itertools as it\n",
        "import pandas as pd\n",
        "from tqdm.notebook import tqdm\n",
        "\n",
        "!pip install fastai --upgrade --quiet\n",
        "import fastai\n",
        "from fastai.vision.all import *\n",
        "from fastai.vision.gan import *\n",
        "from sklearn.model_selection import train_test_split\n",
        "from sklearn.preprocessing import StandardScaler\n",
        "\n",
        "import warnings\n",
        "warnings.filterwarnings(\"ignore\", category=UserWarning, module=\"fastai.callback.core\")\n",
        "warnings.filterwarnings(\"ignore\", category=UserWarning, module=\"fastprogress.fastprogress\")\n",
        "\n",
        "class color:\n",
        "   PURPLE = '\\033[95m'\n",
        "   CYAN = '\\033[96m'\n",
        "   DARKCYAN = '\\033[36m'\n",
        "   BLUE = '\\033[94m'\n",
        "   GREEN = '\\033[92m'\n",
        "   YELLOW = '\\033[93m'\n",
        "   RED = '\\033[91m'\n",
        "   BOLD = '\\033[1m'\n",
        "   UNDERLINE = '\\033[4m'\n",
        "   END = '\\033[0m'"
      ],
      "execution_count": 4,
      "outputs": [
        {
          "output_type": "display_data",
          "data": {
            "text/plain": [
              "<IPython.core.display.HTML object>"
            ],
            "text/html": [
              "<style>.container { width:100% !important; } div.cell.selected {border-left-width: 0px !important;}</style>"
            ]
          },
          "metadata": {}
        }
      ]
    },
    {
      "cell_type": "markdown",
      "metadata": {
        "id": "4jS1cp2ZRevH"
      },
      "source": [
        "# Notebook Output\n",
        "\n",
        "This notebook runs a Generative Adversarial Network (GAN) and saving files including *fake* patches which are the output of the training of GAN. These patches could be analysed in a following notebook (*Analyse*) but to allow a better stats a larger simulation is analyzed."
      ]
    },
    {
      "cell_type": "markdown",
      "metadata": {
        "id": "t2QjQxo7R-Vl"
      },
      "source": [
        "# Processing"
      ]
    },
    {
      "cell_type": "markdown",
      "metadata": {
        "id": "XywdU1ogSAjV"
      },
      "source": [
        "Define variables *n_vars* (species to use) and *incl_soil* (if soil is included in the training). Variables need to be consistent among notebooks."
      ]
    },
    {
      "cell_type": "code",
      "metadata": {
        "ExecuteTime": {
          "end_time": "2021-04-16T10:33:06.301939Z",
          "start_time": "2021-04-16T10:33:06.295846Z"
        },
        "id": "2e5rZAYYlkpk"
      },
      "source": [
        "# set the number of plant species or other similar variables to consider\n",
        "n_vars=8\n",
        "# set boolean to include soil type (whether gypsum or not) to be considered as another variable treated as a plant species\n",
        "incl_soil = True\n",
        "# (this could be generalized to location i.e. ravine/not, north_face/not, etc... alongside the present of a plant"
      ],
      "execution_count": 5,
      "outputs": []
    },
    {
      "cell_type": "markdown",
      "metadata": {
        "id": "TMD1-L8Olkpl"
      },
      "source": [
        "# Train the GAN and generate fake patches"
      ]
    },
    {
      "cell_type": "markdown",
      "metadata": {
        "id": "Yfh7u7IcViLz"
      },
      "source": [
        "Generative Adversarial Networks (GANs) were first [introduced in 2014](https://arxiv.org/abs/1406.2661). Since then we have seen significant development in GANs. In short, GANs are networks which can learn and mimic distributions (images, speech, music, text, etc). They have great potential for generating fake information which is very similar to the real ones.\n",
        "\n",
        "To understand a GAN, one needs to understand differences between supervised and unsupervised, and generative models.\n",
        "\n",
        " * *Supervised learning*: it requires a labeled training data with input samples X and labels y. The network learns a function that maps the input values to the output values. This function is used to give predictions for new samples which have never been used for training. Using supervised learning we can predict the class labels (y). This task of predicting the class labels is called classification (*discriminative* modeling).\n",
        "\n",
        "* *Unsupervised learning*: it does not require labeled data for training. The network finds a pattern in the input samples. These patterns charactize the inputs examples and can be used to generate new examples of similar types (in this case they are also called *generative* models).\n",
        "\n",
        "GANs are Generative and *Adversarial* Networks, this adds a particular to the architecture. GANs are composed of a *Generator* and *Discriminator* that compete with each other. *Generator* tries to create samples as close as possible to the real ones, while the *Discriminator* gets trained to be good at distinguishing between **real** and **fake** samples.\n",
        "\n",
        "We have a game like scenario. The aim of a GAN is to get both components as good as possible, this will give a fake (generated) samples which will be close to the real ones.\n",
        "\n"
      ]
    },
    {
      "cell_type": "markdown",
      "metadata": {
        "id": "lRyX4peva4G_"
      },
      "source": [
        "![GAN.png](data:image/png;base64,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)"
      ]
    },
    {
      "cell_type": "markdown",
      "metadata": {
        "id": "FqRdhGkoSWxi"
      },
      "source": [
        "## Create images for GAN"
      ]
    },
    {
      "cell_type": "markdown",
      "metadata": {
        "id": "jmRqkJZf4h_5"
      },
      "source": [
        "Create images to feed the GAN training. Images will represent presence or abscence of each of the selected species in the patch."
      ]
    },
    {
      "cell_type": "code",
      "metadata": {
        "ExecuteTime": {
          "end_time": "2021-04-16T10:33:11.591922Z",
          "start_time": "2021-04-16T10:33:11.585563Z"
        },
        "id": "Eq8hzzH1lkpm"
      },
      "source": [
        "#n our GAN is defined to handle RGB images colors, although we will set all three color values equal\n",
        "n_colors=3\n",
        "\n",
        "# our GAN is set to handle square images, but we will simply repeat a line of entries multiple times\n",
        "n_tile=n_vars\n",
        "\n",
        "dir_name = google_drive_dir+'saved_reals'\n",
        "if os.path.exists(dir_name):\n",
        "  file_name =os.path.join(dir_name,'X__n_vars='+str(n_vars)+'__incl_soil='+str(incl_soil)+'.parquet.gzip')\n",
        "  X=pd.read_parquet(file_name)\n",
        "  n_patches = X.shape[0]\n",
        "  var_names = X.columns.tolist()"
      ],
      "execution_count": 6,
      "outputs": []
    },
    {
      "cell_type": "code",
      "metadata": {
        "ExecuteTime": {
          "end_time": "2021-04-16T10:33:12.339160Z",
          "start_time": "2021-04-16T10:33:12.328784Z"
        },
        "colab": {
          "base_uri": "https://localhost:8080/"
        },
        "id": "e-huVfnVlkpm",
        "outputId": "5d95a59c-8a86-4b88-b6e5-4f6907c99b47"
      },
      "source": [
        "# transform the data into a 4D array of n_patches * n_vars * n_tile * n_colors\n",
        "X_array=np.array(X)\n",
        "X_4d=np.tile(X_array,(n_tile,1,1))\n",
        "X_4d=X_4d.transpose(1,2,0)\n",
        "if n_colors==3:\n",
        "    X_4d=X_4d[:,np.newaxis].transpose(0,2,3,1)\n",
        "    X_4d=X_4d*[1,1,1]\n",
        "\n",
        "X_4d.shape"
      ],
      "execution_count": 7,
      "outputs": [
        {
          "output_type": "execute_result",
          "data": {
            "text/plain": [
              "(2581, 8, 8, 3)"
            ]
          },
          "metadata": {},
          "execution_count": 7
        }
      ]
    },
    {
      "cell_type": "markdown",
      "metadata": {
        "id": "Ha9bTF5oSts_"
      },
      "source": [
        "Save images in directories"
      ]
    },
    {
      "cell_type": "code",
      "metadata": {
        "ExecuteTime": {
          "end_time": "2021-04-16T10:33:14.016361Z",
          "start_time": "2021-04-16T10:33:13.572790Z"
        },
        "colab": {
          "base_uri": "https://localhost:8080/"
        },
        "id": "1g6aJcz0lkpn",
        "outputId": "1f93aada-b8a5-495a-95ed-0e44cf67c6ba"
      },
      "source": [
        "dir_name = google_drive_dir+'images_for_GAN_training'\n",
        "try:\n",
        "    shutil.rmtree(dir_name)\n",
        "except OSError as e:\n",
        "  pass\n",
        "\n",
        "print(f'Creating directories ...')\n",
        "os.mkdir(dir_name)\n",
        "\n",
        "dir_name=os.path.join(dir_name,'real_patches__n_vars='+str(n_vars))\n",
        "IMAGE_PATH= dir_name\n",
        "\n",
        "if not os.path.exists(dir_name):\n",
        "      os.mkdir(dir_name)\n",
        "\n",
        "n_patches = X_4d.shape[0]\n",
        "\n",
        "print(f'... saving Images ...')\n",
        "for j in range(n_patches):\n",
        "    array = X_4d[j,:,:,:]\n",
        "    array = (array * 255).astype(np.uint8)\n",
        "\n",
        "    Image.fromarray(array).convert('L').save(os.path.join(dir_name,str(j)+'.png'))\n",
        "\n",
        "print('... a total of {} images saved at directory {}'.format(n_patches,dir_name))"
      ],
      "execution_count": 8,
      "outputs": [
        {
          "output_type": "stream",
          "name": "stdout",
          "text": [
            "Creating directories ...\n",
            "... saving Images ...\n",
            "... a total of 2581 images saved at directory /content/gdrive/My Drive/AI4Ecology/images_for_GAN_training/real_patches__n_vars=8\n"
          ]
        }
      ]
    },
    {
      "cell_type": "markdown",
      "metadata": {
        "id": "vynpjIfw4tuv"
      },
      "source": [
        "Example of representation of some random patches. Yellow bands represent species present in the patch."
      ]
    },
    {
      "cell_type": "code",
      "metadata": {
        "colab": {
          "base_uri": "https://localhost:8080/",
          "height": 248
        },
        "id": "seAF6DZF536M",
        "outputId": "bced54b1-287b-494d-ef9c-fab4e12ab9f4"
      },
      "source": [
        "from PIL import Image\n",
        "\n",
        "fig, ax = plt.subplots(1, 6, figsize=(25,100))\n",
        "\n",
        "for x in range(0,6) :\n",
        "  im = Image.open(os.path.join(dir_name,str(random.randint(0,X_4d.shape[0]))+'.png'))\n",
        "  ax[x].imshow(im)\n",
        "\n",
        "plt.show()\n",
        "plt.tight_layout()"
      ],
      "execution_count": 9,
      "outputs": [
        {
          "output_type": "display_data",
          "data": {
            "text/plain": [
              "<Figure size 2500x10000 with 6 Axes>"
            ],
            "image/png": "[encoded data removed]"
          },
          "metadata": {}
        },
        {
          "output_type": "display_data",
          "data": {
            "text/plain": [
              "<Figure size 640x480 with 0 Axes>"
            ]
          },
          "metadata": {}
        }
      ]
    },
    {
      "cell_type": "markdown",
      "metadata": {
        "id": "Nc2wQszr5wJT"
      },
      "source": [
        "Load all created images in a Datablock for later use."
      ]
    },
    {
      "cell_type": "code",
      "metadata": {
        "ExecuteTime": {
          "end_time": "2021-04-16T10:33:17.137233Z",
          "start_time": "2021-04-16T10:33:14.736226Z"
        },
        "code_folding": [],
        "scrolled": false,
        "colab": {
          "base_uri": "https://localhost:8080/",
          "height": 784
        },
        "id": "A0mxLI-Elkpo",
        "outputId": "c718ce96-bb17-4c8e-9070-23f523b3dac7"
      },
      "source": [
        "BATCH_SIZE = 64\n",
        "IMAGE_SIZE = n_vars\n",
        "noise_sz= 6\n",
        "def generate_noise(fn, noise_sz=noise_sz): return cast(torch.randn(noise_sz), InvisibleTensor)\n",
        "\n",
        "dblock = DataBlock(blocks = (TransformBlock, ImageBlock),\n",
        "                   get_x = generate_noise,\n",
        "                   get_items = get_image_files,\n",
        "                   item_tfms = Resize(IMAGE_SIZE),\n",
        "                   splitter = IndexSplitter([]))\n",
        "\n",
        "dls = dblock.dataloaders(IMAGE_PATH, bs=BATCH_SIZE)\n",
        "dls.show_batch()\n",
        "onebatch = dls.one_batch()\n",
        "print('Total images in data {}.'.format(len(dls.train_ds)))"
      ],
      "execution_count": 10,
      "outputs": [
        {
          "output_type": "stream",
          "name": "stderr",
          "text": [
            "/usr/local/lib/python3.10/dist-packages/fastai/torch_core.py:263: UserWarning: 'has_mps' is deprecated, please use 'torch.backends.mps.is_built()'\n",
            "  return getattr(torch, 'has_mps', False)\n"
          ]
        },
        {
          "output_type": "stream",
          "name": "stdout",
          "text": [
            "Total images in data 2581.\n"
          ]
        },
        {
          "output_type": "display_data",
          "data": {
            "text/plain": [
              "<Figure size 900x900 with 9 Axes>"
            ],
            "image/png": "[encoded data removed]"
          },
          "metadata": {}
        }
      ]
    },
    {
      "cell_type": "markdown",
      "source": [
        "Come è fatto un batch"
      ],
      "metadata": {
        "id": "mXX9p3cKNTGC"
      }
    },
    {
      "cell_type": "code",
      "source": [
        "# Stampa le dimensioni del batch di input\n",
        "print(\"Dimensioni del batch di input:\", type(onebatch))"
      ],
      "metadata": {
        "id": "5iFJIRBVNRE1",
        "outputId": "d17efee0-124e-4891-b6c4-512cf820b99c",
        "colab": {
          "base_uri": "https://localhost:8080/"
        }
      },
      "execution_count": 11,
      "outputs": [
        {
          "output_type": "stream",
          "name": "stdout",
          "text": [
            "Dimensioni del batch di input: <class 'tuple'>\n"
          ]
        }
      ]
    },
    {
      "cell_type": "markdown",
      "metadata": {
        "id": "QWpc9x21Sfua"
      },
      "source": [
        "## Train GAN"
      ]
    },
    {
      "cell_type": "markdown",
      "metadata": {
        "id": "CHYpMv909LWU"
      },
      "source": [
        "Define variables for training, the more epochs and fakes more time will take to run but better will be your output. In the GIT there is an already created output to run the statistical analysis which contain large statistics. Here numbers will be set to be able to run the notebook in around 1 hour in Google Collab.\n",
        "\n",
        "With 10 epochs and 1000 fakes it will take about 2 minutes per repeat"
      ]
    },
    {
      "cell_type": "code",
      "metadata": {
        "ExecuteTime": {
          "end_time": "2021-04-16T10:33:17.925174Z",
          "start_time": "2021-04-16T10:33:17.922404Z"
        },
        "id": "PLpTihemlkpq"
      },
      "source": [
        "n_epochs= 10 # For large stats try 3000\n",
        "n_repeats = 5\n",
        "\n",
        "n_fakes = 1000 # For large stats try 300000\n",
        "\n",
        "edge_fraction = .3\n",
        "midtone = .5\n",
        "threshold = .5"
      ],
      "execution_count": 12,
      "outputs": []
    },
    {
      "cell_type": "markdown",
      "metadata": {
        "id": "GHazuPYPbOq3"
      },
      "source": [
        "Training a Generative Adversarial Network involves training both a *Generator* and a *Discriminator* (or *Critic*). Using [Fastai](https://www.fast.ai/) one can simply do:\n",
        "\n",
        "```\n",
        "generator = basic_generator(in_size=ins, n_channels=nc, n_extra_layers=nl)\n",
        "critic    = basic_critic   (in_size=ins, n_channels=nc, n_extra_layers=nl)\n",
        "learn = GANLearner.wgan(data, generator, critic, opt_func = opt_func=RMSProp)\n",
        "learn.fit(30,2e-4)\n",
        "```"
      ]
    },
    {
      "cell_type": "code",
      "metadata": {
        "ExecuteTime": {
          "end_time": "2021-04-16T10:33:25.280124Z",
          "start_time": "2021-04-16T10:33:20.700816Z"
        },
        "code_folding": [],
        "scrolled": true,
        "colab": {
          "base_uri": "https://localhost:8080/",
          "height": 1000
        },
        "id": "sX9B7U3Ilkpq",
        "outputId": "3ae95814-5d6c-4824-bf00-2033782582f3"
      },
      "source": [
        "# Set to True to show metrics\n",
        "show_plots = False\n",
        "\n",
        "#training loop\n",
        "for j in range(n_repeats):\n",
        "    n_total_epochs = 0\n",
        "\n",
        "    print(\"\\n Starting Training\"+color.RED+\" repeat \"+str(j)+color.END+\" will do \"+color.RED+str(n_epochs)+color.END+\" epochs\")\n",
        "\n",
        "    # Generator Definition (https://docs.fast.ai/vision.gan.html#basic_generator)\n",
        "    generator = basic_generator(IMAGE_SIZE, in_sz=noise_sz, n_channels=n_colors, n_extra_layers=1)\n",
        "\n",
        "    # Critic Definition (https://docs.fast.ai/vision.gan.html#basic_critic)\n",
        "    critic = basic_critic(IMAGE_SIZE, n_channels=n_colors, n_extra_layers=1, act_cls=partial(nn.LeakyReLU, negative_slope=0.2))\n",
        "\n",
        "    # Learner (https://docs.fast.ai/vision.gan.html#GANLearner)\n",
        "    learn = GANLearner.wgan(dls, generator=generator, critic=critic, opt_func=RMSProp)\n",
        "    learn.recorder.train_metrics = True\n",
        "    learn.recorder.valid_metrics = False\n",
        "    learn.model_dir = google_drive_dir+'models'\n",
        "\n",
        "    with learn.no_logging():\n",
        "        learn.fit(n_epochs, 2e-4, wd=0.)\n",
        "    n_total_epochs += len(L(learn.recorder.values))\n",
        "\n",
        "    plt.plot(L(learn.recorder.values))\n",
        "    if show_plots : plt.show()\n",
        "\n",
        "    gen_loss = learn.recorder.values[-1][1]\n",
        "    print(\"\\n ... done with training found a \"+color.BLUE+\"Generator Loss == {:.4f}\".format(gen_loss)+color.END)\n",
        "\n",
        "    plt.plot(L(learn.recorder.values).itemgot(1))\n",
        "    if show_plots : plt.show()\n",
        "\n",
        "\n",
        "    # Saving the model\n",
        "    timestamp = datetime.now().strftime(\"%Y-%m-%d_%H-%M-%S\")\n",
        "    model_name='GAN__noise_sz='+str(noise_sz)+'__n_vars='+str(n_vars)+'__incl_soil='+str(incl_soil)+'__n_epochs='+str(n_total_epochs)+'__model_timestamp='+timestamp+'__gen_loss='+str(gen_loss)\n",
        "\n",
        "    print('\\n ... saving model {}'.format(model_name))\n",
        "    learn.save(model_name)\n",
        "\n",
        "    print(\"\\nGenerating \"+color.BLUE+str(n_fakes)+color.END+\" fake patches\")\n",
        "\n",
        "    # Fake patches Generation\n",
        "    tst_dl = learn.dls.test_dl(cast(torch.randn(n_fakes,noise_sz), InvisibleTensor))\n",
        "    preds = learn.get_preds(dl=tst_dl,with_decoded=True)\n",
        "    fakes_4d=preds[0].numpy().transpose(0,2,3,1)\n",
        "\n",
        "    # Define edges of tile that can be removed: we expect n_var constant lines in the images, but there may be boundary effects\n",
        "    edge = int(np.floor(edge_fraction * n_tile))\n",
        "    begin_select = edge\n",
        "    end_se1ect = n_tile - edge\n",
        "\n",
        "    # Average over the remaining length and over the three colors\n",
        "    cont_2d=fakes_4d.mean(3)[:,:,begin_select:end_se1ect].mean(2)\n",
        "\n",
        "    # Apply a binary threshold to get a yes/no answer to the question of whether this species is present or not\n",
        "    fakes_2d=midtone*(1+np.sign(cont_2d-threshold))\n",
        "    fakes_df = pd.DataFrame(fakes_2d)\n",
        "\n",
        "\n",
        "    # Save fake patches\n",
        "    fakes_df.columns = var_names\n",
        "    dir_name=google_drive_dir+'saved_fakes'\n",
        "    if not os.path.exists(dir_name):\n",
        "        os.mkdir(dir_name)\n",
        "\n",
        "    file_name=os.path.join(dir_name,'GAN_fakes__'+model_name+'__n_fakes='+str(n_fakes)+'.parquet.gzip')\n",
        "\n",
        "    fakes_df.to_parquet(file_name,compression='gzip')\n",
        "    print(color.BOLD+'\\nA total of {} fakes saved to Drive'.format(n_fakes)+color.END+\"\\n\")"
      ],
      "execution_count": 14,
      "outputs": [
        {
          "output_type": "stream",
          "name": "stdout",
          "text": [
            "\n",
            " Starting Training\u001b[91m repeat 0\u001b[0m will do \u001b[91m10\u001b[0m epochs\n"
          ]
        },
        {
          "output_type": "stream",
          "name": "stderr",
          "text": [
            "/usr/local/lib/python3.10/dist-packages/fastai/torch_core.py:263: UserWarning: 'has_mps' is deprecated, please use 'torch.backends.mps.is_built()'\n",
            "  return getattr(torch, 'has_mps', False)\n"
          ]
        },
        {
          "output_type": "display_data",
          "data": {
            "text/plain": [
              "<IPython.core.display.HTML object>"
            ],
            "text/html": [
              "\n",
              "<style>\n",
              "    /* Turns off some styling */\n",
              "    progress {\n",
              "        /* gets rid of default border in Firefox and Opera. */\n",
              "        border: none;\n",
              "        /* Needs to be in here for Safari polyfill so background images work as expected. */\n",
              "        background-size: auto;\n",
              "    }\n",
              "    progress:not([value]), progress:not([value])::-webkit-progress-bar {\n",
              "        background: repeating-linear-gradient(45deg, #7e7e7e, #7e7e7e 10px, #5c5c5c 10px, #5c5c5c 20px);\n",
              "    }\n",
              "    .progress-bar-interrupted, .progress-bar-interrupted::-webkit-progress-bar {\n",
              "        background: #F44336;\n",
              "    }\n",
              "</style>\n"
            ]
          },
          "metadata": {}
        },
        {
          "output_type": "display_data",
          "data": {
            "text/plain": [
              "<IPython.core.display.HTML object>"
            ],
            "text/html": []
          },
          "metadata": {}
        },
        {
          "output_type": "stream",
          "name": "stdout",
          "text": [
            "\n",
            " ... done with training found a \u001b[94mGenerator Loss == 0.0350\u001b[0m\n",
            "\n",
            " ... saving model GAN__noise_sz=6__n_vars=8__incl_soil=True__n_epochs=10__model_timestamp=2024-01-18_17-28-09__gen_loss=0.035021983087062836\n",
            "\n",
            "Generating \u001b[94m1000\u001b[0m fake patches\n"
          ]
        },
        {
          "output_type": "display_data",
          "data": {
            "text/plain": [
              "<IPython.core.display.HTML object>"
            ],
            "text/html": [
              "\n",
              "<style>\n",
              "    /* Turns off some styling */\n",
              "    progress {\n",
              "        /* gets rid of default border in Firefox and Opera. */\n",
              "        border: none;\n",
              "        /* Needs to be in here for Safari polyfill so background images work as expected. */\n",
              "        background-size: auto;\n",
              "    }\n",
              "    progress:not([value]), progress:not([value])::-webkit-progress-bar {\n",
              "        background: repeating-linear-gradient(45deg, #7e7e7e, #7e7e7e 10px, #5c5c5c 10px, #5c5c5c 20px);\n",
              "    }\n",
              "    .progress-bar-interrupted, .progress-bar-interrupted::-webkit-progress-bar {\n",
              "        background: #F44336;\n",
              "    }\n",
              "</style>\n"
            ]
          },
          "metadata": {}
        },
        {
          "output_type": "display_data",
          "data": {
            "text/plain": [
              "<IPython.core.display.HTML object>"
            ],
            "text/html": []
          },
          "metadata": {}
        },
        {
          "output_type": "stream",
          "name": "stdout",
          "text": [
            "\u001b[1m\n",
            "A total of 1000 fakes saved to Drive\u001b[0m\n",
            "\n",
            "\n",
            " Starting Training\u001b[91m repeat 1\u001b[0m will do \u001b[91m10\u001b[0m epochs\n"
          ]
        },
        {
          "output_type": "stream",
          "name": "stderr",
          "text": [
            "/usr/local/lib/python3.10/dist-packages/fastai/torch_core.py:263: UserWarning: 'has_mps' is deprecated, please use 'torch.backends.mps.is_built()'\n",
            "  return getattr(torch, 'has_mps', False)\n"
          ]
        },
        {
          "output_type": "display_data",
          "data": {
            "text/plain": [
              "<IPython.core.display.HTML object>"
            ],
            "text/html": [
              "\n",
              "<style>\n",
              "    /* Turns off some styling */\n",
              "    progress {\n",
              "        /* gets rid of default border in Firefox and Opera. */\n",
              "        border: none;\n",
              "        /* Needs to be in here for Safari polyfill so background images work as expected. */\n",
              "        background-size: auto;\n",
              "    }\n",
              "    progress:not([value]), progress:not([value])::-webkit-progress-bar {\n",
              "        background: repeating-linear-gradient(45deg, #7e7e7e, #7e7e7e 10px, #5c5c5c 10px, #5c5c5c 20px);\n",
              "    }\n",
              "    .progress-bar-interrupted, .progress-bar-interrupted::-webkit-progress-bar {\n",
              "        background: #F44336;\n",
              "    }\n",
              "</style>\n"
            ]
          },
          "metadata": {}
        },
        {
          "output_type": "display_data",
          "data": {
            "text/plain": [
              "<IPython.core.display.HTML object>"
            ],
            "text/html": []
          },
          "metadata": {}
        },
        {
          "output_type": "stream",
          "name": "stdout",
          "text": [
            "\n",
            " ... done with training found a \u001b[94mGenerator Loss == 0.0331\u001b[0m\n",
            "\n",
            " ... saving model GAN__noise_sz=6__n_vars=8__incl_soil=True__n_epochs=10__model_timestamp=2024-01-18_17-30-47__gen_loss=0.033064357936382294\n",
            "\n",
            "Generating \u001b[94m1000\u001b[0m fake patches\n"
          ]
        },
        {
          "output_type": "display_data",
          "data": {
            "text/plain": [
              "<IPython.core.display.HTML object>"
            ],
            "text/html": [
              "\n",
              "<style>\n",
              "    /* Turns off some styling */\n",
              "    progress {\n",
              "        /* gets rid of default border in Firefox and Opera. */\n",
              "        border: none;\n",
              "        /* Needs to be in here for Safari polyfill so background images work as expected. */\n",
              "        background-size: auto;\n",
              "    }\n",
              "    progress:not([value]), progress:not([value])::-webkit-progress-bar {\n",
              "        background: repeating-linear-gradient(45deg, #7e7e7e, #7e7e7e 10px, #5c5c5c 10px, #5c5c5c 20px);\n",
              "    }\n",
              "    .progress-bar-interrupted, .progress-bar-interrupted::-webkit-progress-bar {\n",
              "        background: #F44336;\n",
              "    }\n",
              "</style>\n"
            ]
          },
          "metadata": {}
        },
        {
          "output_type": "display_data",
          "data": {
            "text/plain": [
              "<IPython.core.display.HTML object>"
            ],
            "text/html": []
          },
          "metadata": {}
        },
        {
          "output_type": "stream",
          "name": "stdout",
          "text": [
            "\u001b[1m\n",
            "A total of 1000 fakes saved to Drive\u001b[0m\n",
            "\n",
            "\n",
            " Starting Training\u001b[91m repeat 2\u001b[0m will do \u001b[91m10\u001b[0m epochs\n"
          ]
        },
        {
          "output_type": "stream",
          "name": "stderr",
          "text": [
            "/usr/local/lib/python3.10/dist-packages/fastai/torch_core.py:263: UserWarning: 'has_mps' is deprecated, please use 'torch.backends.mps.is_built()'\n",
            "  return getattr(torch, 'has_mps', False)\n"
          ]
        },
        {
          "output_type": "display_data",
          "data": {
            "text/plain": [
              "<IPython.core.display.HTML object>"
            ],
            "text/html": [
              "\n",
              "<style>\n",
              "    /* Turns off some styling */\n",
              "    progress {\n",
              "        /* gets rid of default border in Firefox and Opera. */\n",
              "        border: none;\n",
              "        /* Needs to be in here for Safari polyfill so background images work as expected. */\n",
              "        background-size: auto;\n",
              "    }\n",
              "    progress:not([value]), progress:not([value])::-webkit-progress-bar {\n",
              "        background: repeating-linear-gradient(45deg, #7e7e7e, #7e7e7e 10px, #5c5c5c 10px, #5c5c5c 20px);\n",
              "    }\n",
              "    .progress-bar-interrupted, .progress-bar-interrupted::-webkit-progress-bar {\n",
              "        background: #F44336;\n",
              "    }\n",
              "</style>\n"
            ]
          },
          "metadata": {}
        },
        {
          "output_type": "display_data",
          "data": {
            "text/plain": [
              "<IPython.core.display.HTML object>"
            ],
            "text/html": []
          },
          "metadata": {}
        },
        {
          "output_type": "stream",
          "name": "stdout",
          "text": [
            "\n",
            " ... done with training found a \u001b[94mGenerator Loss == 0.0387\u001b[0m\n",
            "\n",
            " ... saving model GAN__noise_sz=6__n_vars=8__incl_soil=True__n_epochs=10__model_timestamp=2024-01-18_17-33-19__gen_loss=0.038732003420591354\n",
            "\n",
            "Generating \u001b[94m1000\u001b[0m fake patches\n"
          ]
        },
        {
          "output_type": "display_data",
          "data": {
            "text/plain": [
              "<IPython.core.display.HTML object>"
            ],
            "text/html": [
              "\n",
              "<style>\n",
              "    /* Turns off some styling */\n",
              "    progress {\n",
              "        /* gets rid of default border in Firefox and Opera. */\n",
              "        border: none;\n",
              "        /* Needs to be in here for Safari polyfill so background images work as expected. */\n",
              "        background-size: auto;\n",
              "    }\n",
              "    progress:not([value]), progress:not([value])::-webkit-progress-bar {\n",
              "        background: repeating-linear-gradient(45deg, #7e7e7e, #7e7e7e 10px, #5c5c5c 10px, #5c5c5c 20px);\n",
              "    }\n",
              "    .progress-bar-interrupted, .progress-bar-interrupted::-webkit-progress-bar {\n",
              "        background: #F44336;\n",
              "    }\n",
              "</style>\n"
            ]
          },
          "metadata": {}
        },
        {
          "output_type": "display_data",
          "data": {
            "text/plain": [
              "<IPython.core.display.HTML object>"
            ],
            "text/html": []
          },
          "metadata": {}
        },
        {
          "output_type": "stream",
          "name": "stdout",
          "text": [
            "\u001b[1m\n",
            "A total of 1000 fakes saved to Drive\u001b[0m\n",
            "\n",
            "\n",
            " Starting Training\u001b[91m repeat 3\u001b[0m will do \u001b[91m10\u001b[0m epochs\n"
          ]
        },
        {
          "output_type": "stream",
          "name": "stderr",
          "text": [
            "/usr/local/lib/python3.10/dist-packages/fastai/torch_core.py:263: UserWarning: 'has_mps' is deprecated, please use 'torch.backends.mps.is_built()'\n",
            "  return getattr(torch, 'has_mps', False)\n"
          ]
        },
        {
          "output_type": "display_data",
          "data": {
            "text/plain": [
              "<IPython.core.display.HTML object>"
            ],
            "text/html": [
              "\n",
              "<style>\n",
              "    /* Turns off some styling */\n",
              "    progress {\n",
              "        /* gets rid of default border in Firefox and Opera. */\n",
              "        border: none;\n",
              "        /* Needs to be in here for Safari polyfill so background images work as expected. */\n",
              "        background-size: auto;\n",
              "    }\n",
              "    progress:not([value]), progress:not([value])::-webkit-progress-bar {\n",
              "        background: repeating-linear-gradient(45deg, #7e7e7e, #7e7e7e 10px, #5c5c5c 10px, #5c5c5c 20px);\n",
              "    }\n",
              "    .progress-bar-interrupted, .progress-bar-interrupted::-webkit-progress-bar {\n",
              "        background: #F44336;\n",
              "    }\n",
              "</style>\n"
            ]
          },
          "metadata": {}
        },
        {
          "output_type": "display_data",
          "data": {
            "text/plain": [
              "<IPython.core.display.HTML object>"
            ],
            "text/html": []
          },
          "metadata": {}
        },
        {
          "output_type": "stream",
          "name": "stdout",
          "text": [
            "\n",
            " ... done with training found a \u001b[94mGenerator Loss == 0.0396\u001b[0m\n",
            "\n",
            " ... saving model GAN__noise_sz=6__n_vars=8__incl_soil=True__n_epochs=10__model_timestamp=2024-01-18_17-35-52__gen_loss=0.03963685408234596\n",
            "\n",
            "Generating \u001b[94m1000\u001b[0m fake patches\n"
          ]
        },
        {
          "output_type": "display_data",
          "data": {
            "text/plain": [
              "<IPython.core.display.HTML object>"
            ],
            "text/html": [
              "\n",
              "<style>\n",
              "    /* Turns off some styling */\n",
              "    progress {\n",
              "        /* gets rid of default border in Firefox and Opera. */\n",
              "        border: none;\n",
              "        /* Needs to be in here for Safari polyfill so background images work as expected. */\n",
              "        background-size: auto;\n",
              "    }\n",
              "    progress:not([value]), progress:not([value])::-webkit-progress-bar {\n",
              "        background: repeating-linear-gradient(45deg, #7e7e7e, #7e7e7e 10px, #5c5c5c 10px, #5c5c5c 20px);\n",
              "    }\n",
              "    .progress-bar-interrupted, .progress-bar-interrupted::-webkit-progress-bar {\n",
              "        background: #F44336;\n",
              "    }\n",
              "</style>\n"
            ]
          },
          "metadata": {}
        },
        {
          "output_type": "display_data",
          "data": {
            "text/plain": [
              "<IPython.core.display.HTML object>"
            ],
            "text/html": []
          },
          "metadata": {}
        },
        {
          "output_type": "stream",
          "name": "stdout",
          "text": [
            "\u001b[1m\n",
            "A total of 1000 fakes saved to Drive\u001b[0m\n",
            "\n",
            "\n",
            " Starting Training\u001b[91m repeat 4\u001b[0m will do \u001b[91m10\u001b[0m epochs\n"
          ]
        },
        {
          "output_type": "stream",
          "name": "stderr",
          "text": [
            "/usr/local/lib/python3.10/dist-packages/fastai/torch_core.py:263: UserWarning: 'has_mps' is deprecated, please use 'torch.backends.mps.is_built()'\n",
            "  return getattr(torch, 'has_mps', False)\n"
          ]
        },
        {
          "output_type": "display_data",
          "data": {
            "text/plain": [
              "<IPython.core.display.HTML object>"
            ],
            "text/html": [
              "\n",
              "<style>\n",
              "    /* Turns off some styling */\n",
              "    progress {\n",
              "        /* gets rid of default border in Firefox and Opera. */\n",
              "        border: none;\n",
              "        /* Needs to be in here for Safari polyfill so background images work as expected. */\n",
              "        background-size: auto;\n",
              "    }\n",
              "    progress:not([value]), progress:not([value])::-webkit-progress-bar {\n",
              "        background: repeating-linear-gradient(45deg, #7e7e7e, #7e7e7e 10px, #5c5c5c 10px, #5c5c5c 20px);\n",
              "    }\n",
              "    .progress-bar-interrupted, .progress-bar-interrupted::-webkit-progress-bar {\n",
              "        background: #F44336;\n",
              "    }\n",
              "</style>\n"
            ]
          },
          "metadata": {}
        },
        {
          "output_type": "display_data",
          "data": {
            "text/plain": [
              "<IPython.core.display.HTML object>"
            ],
            "text/html": []
          },
          "metadata": {}
        },
        {
          "output_type": "stream",
          "name": "stdout",
          "text": [
            "\n",
            " ... done with training found a \u001b[94mGenerator Loss == 0.0296\u001b[0m\n",
            "\n",
            " ... saving model GAN__noise_sz=6__n_vars=8__incl_soil=True__n_epochs=10__model_timestamp=2024-01-18_17-38-26__gen_loss=0.029625728726387024\n",
            "\n",
            "Generating \u001b[94m1000\u001b[0m fake patches\n"
          ]
        },
        {
          "output_type": "display_data",
          "data": {
            "text/plain": [
              "<IPython.core.display.HTML object>"
            ],
            "text/html": [
              "\n",
              "<style>\n",
              "    /* Turns off some styling */\n",
              "    progress {\n",
              "        /* gets rid of default border in Firefox and Opera. */\n",
              "        border: none;\n",
              "        /* Needs to be in here for Safari polyfill so background images work as expected. */\n",
              "        background-size: auto;\n",
              "    }\n",
              "    progress:not([value]), progress:not([value])::-webkit-progress-bar {\n",
              "        background: repeating-linear-gradient(45deg, #7e7e7e, #7e7e7e 10px, #5c5c5c 10px, #5c5c5c 20px);\n",
              "    }\n",
              "    .progress-bar-interrupted, .progress-bar-interrupted::-webkit-progress-bar {\n",
              "        background: #F44336;\n",
              "    }\n",
              "</style>\n"
            ]
          },
          "metadata": {}
        },
        {
          "output_type": "display_data",
          "data": {
            "text/plain": [
              "<IPython.core.display.HTML object>"
            ],
            "text/html": []
          },
          "metadata": {}
        },
        {
          "output_type": "stream",
          "name": "stdout",
          "text": [
            "\u001b[1m\n",
            "A total of 1000 fakes saved to Drive\u001b[0m\n",
            "\n"
          ]
        },
        {
          "output_type": "display_data",
          "data": {
            "text/plain": [
              "<Figure size 640x480 with 1 Axes>"
            ],
            "image/png": "[encoded data removed]"
          },
          "metadata": {}
        }
      ]
    },
    {
      "cell_type": "markdown",
      "metadata": {
        "id": "B8kpI4ublkpq"
      },
      "source": [
        "# Pre-process results"
      ]
    },
    {
      "cell_type": "markdown",
      "metadata": {
        "id": "Qnwv-jAFH_D-"
      },
      "source": [
        "Preprocess results for posterior interpretation. Tools to produce plots and tables that can be studied are shown in another notebook, also included in GIT."
      ]
    },
    {
      "cell_type": "code",
      "metadata": {
        "id": "4H_9-Ide6ZKY"
      },
      "source": [
        "# choose confidence interval\n",
        "n_sigmas = 2\n",
        "\n",
        "var_indices = range(n_vars)\n",
        "\n",
        "def N(X,i,j,k,l):\n",
        "# this should probably be parallelized\n",
        "    return len(X[(X.iloc[:,i] != 0) & (X.iloc[:,j] != 0) & (X.iloc[:,k] != 0) & (X.iloc[:,l] != 0)]) #this is faster but works only for binary 0/1 entries"
      ],
      "execution_count": 18,
      "outputs": []
    },
    {
      "cell_type": "markdown",
      "metadata": {
        "id": "ds4hbuAs-llj"
      },
      "source": [
        "For later analysis we will compute probabilities and saved them to file:\n",
        "\n",
        "* Abundance of A when another species B is already present in the patch, P(A|B)\n",
        "\n",
        "$P(A \\mid B) = \\frac{P(A \\cap B)}{P(B)}$\n",
        "\n",
        "* Abundance of species A when two other species (B and C) are already present in the patch, P(A|BC)\n",
        "\n",
        "$P(A \\mid BC) = \\frac{P(A \\cap BC)}{P(BC)}$\n",
        "\n"
      ]
    },
    {
      "cell_type": "code",
      "metadata": {
        "id": "h1ObTTC66Z1g"
      },
      "source": [
        "var_indices = range(int(n_vars))\n",
        "def compute_stats(df):\n",
        "    temp = pd.DataFrame()\n",
        "\n",
        "    for sample_id in tqdm(df['sample_id'].unique().tolist(),desc=\"Computing probabilities :\"):\n",
        "        sample = df[df['sample_id']==sample_id]\n",
        "        sample = sample.drop('sample_id',axis=1)\n",
        "\n",
        "        n_patches = sample.shape[0]\n",
        "        joint = np.array([[[[N(sample,i,j,k,l) for l in var_indices] for k in var_indices] for j in var_indices] for i in var_indices])/n_patches\n",
        "\n",
        "\n",
        "        for i, j, k, l in it.permutations(var_indices, r=4):\n",
        "\n",
        "            # Compute probabilites\n",
        "            temp=temp.append(pd.DataFrame([var_names[i],var_names[j],var_names[k]\n",
        "                                           ,var_names[l]\n",
        "                                           ,sample_id\n",
        "\n",
        "                                           ,joint[i,i,i,i] # p(a)\n",
        "                                           ,joint[j,j,j,j] # p(b)\n",
        "                                           ,joint[k,k,k,k] # p(c)\n",
        "                                           ,joint[l,l,l,l] # p(d)\n",
        "\n",
        "                                           ,joint[i,j,j,j] # p(a,b)\n",
        "                                           ,joint[i,j,k,k] # p(a,b,c)\n",
        "                                           ,joint[i,j,k,l] # p(a,b,c,d)\n",
        "\n",
        "                                           ,joint[i,j,j,j]/joint[j,j,j,j] # p(a|b)\n",
        "                                           ,joint[i,j,k,k]/joint[j,k,k,k] # p(a|b,c)\n",
        "                                           ,joint[i,j,k,l]/joint[j,k,l,l] # p(a|b,c,d)\n",
        "                                          ]).T,ignore_index=True)\n",
        "\n",
        "    # Column definitions\n",
        "    temp.columns = ['a','b','c'\n",
        "                   ,'d'\n",
        "                    ,'sample_id'\n",
        "\n",
        "                    ,'p(a)'\n",
        "                    ,'p(b)'\n",
        "                    ,'p(c)'\n",
        "                    ,'p(d)'\n",
        "\n",
        "                    ,'p(a,b)'\n",
        "                    ,'p(a,b,c)'\n",
        "                    ,'p(a,b,c,d)'\n",
        "\n",
        "                    ,'p(a|b)'\n",
        "                    ,'p(a|b,c)'\n",
        "                    ,'p(a|b,c,d)'\n",
        "                   ]\n",
        "    temp=temp.set_index(['a','b','c','d'])\n",
        "\n",
        "    temp['p(a|b)-p(a)'] = temp['p(a|b)'] - temp['p(a)']\n",
        "    temp['p(a|b,c)-p(a|b)'] = temp['p(a|b,c)'] - temp['p(a|b)']\n",
        "    temp['p(a|b,c,d)-p(a|b,c)'] = temp['p(a|b,c,d)'] - temp['p(a|b,c)']\n",
        "\n",
        "    return temp.convert_dtypes()"
      ],
      "execution_count": 19,
      "outputs": []
    },
    {
      "cell_type": "markdown",
      "metadata": {
        "id": "ErMn4MDYlkps"
      },
      "source": [
        "## Read in fake patches"
      ]
    },
    {
      "cell_type": "markdown",
      "metadata": {
        "id": "OeJBoX-DF1Ye"
      },
      "source": [
        "Check what has been produced so far."
      ]
    },
    {
      "cell_type": "code",
      "metadata": {
        "id": "G11BerPsB6bK"
      },
      "source": [
        "# Choose data to analyze (defined above too)\n",
        "n_vars = 8\n",
        "incl_soil = True\n",
        "noise_sz = 6"
      ],
      "execution_count": 20,
      "outputs": []
    },
    {
      "cell_type": "code",
      "metadata": {
        "ExecuteTime": {
          "end_time": "2021-04-16T08:40:54.080022Z",
          "start_time": "2021-04-16T08:40:54.075237Z"
        },
        "colab": {
          "base_uri": "https://localhost:8080/"
        },
        "id": "8eaTOrcRlkpt",
        "outputId": "7ac8c354-a0e3-46ad-a5aa-4695b7b9ab33"
      },
      "source": [
        "pattern=google_drive_dir+'saved_fakes/GAN_fakes__GAN__noise_sz='+str(noise_sz)+'__n_vars='+str(n_vars)+'__incl_soil='+str(incl_soil)+'*000*.parquet.gzip'\n",
        "list_fakes=sorted(glob.glob(pattern), key=os.path.getmtime)\n",
        "n_fake_samples = len(list_fakes)\n",
        "print(\" A total of \"+str(n_fake_samples)+\" files with fakes\")"
      ],
      "execution_count": 21,
      "outputs": [
        {
          "output_type": "stream",
          "name": "stdout",
          "text": [
            " A total of 10 files with fakes\n"
          ]
        }
      ]
    },
    {
      "cell_type": "code",
      "metadata": {
        "ExecuteTime": {
          "end_time": "2021-04-16T08:40:55.810519Z",
          "start_time": "2021-04-16T08:40:55.737046Z"
        },
        "colab": {
          "base_uri": "https://localhost:8080/",
          "height": 801
        },
        "id": "QxIZi6iFlkpt",
        "outputId": "5c164573-3886-4a32-e7a3-a0113125520e"
      },
      "source": [
        "#sort the columns according to abundance of plant species\n",
        "if incl_soil == False:\n",
        "    offset = 0\n",
        "if incl_soil == True:\n",
        "    offset = 1\n",
        "\n",
        "fakes=pd.DataFrame()\n",
        "for i in range(len(list_fakes)):\n",
        "    fakes_df = pd.read_parquet(list_fakes[i])\n",
        "    #remove patches with fewer than two plant species\n",
        "    fakes_df = fakes_df[fakes_df.iloc[:,offset:].sum(axis=1)>1]\n",
        "    temp = pd.DataFrame(fakes_df)\n",
        "    temp.insert(0,'sample_id',i)\n",
        "    fakes = fakes.append(temp)\n",
        "\n",
        "fakes"
      ],
      "execution_count": 22,
      "outputs": [
        {
          "output_type": "stream",
          "name": "stderr",
          "text": [
            "<ipython-input-22-8f2aa8fdb3a9>:14: FutureWarning: The frame.append method is deprecated and will be removed from pandas in a future version. Use pandas.concat instead.\n",
            "  fakes = fakes.append(temp)\n",
            "<ipython-input-22-8f2aa8fdb3a9>:14: FutureWarning: The frame.append method is deprecated and will be removed from pandas in a future version. Use pandas.concat instead.\n",
            "  fakes = fakes.append(temp)\n",
            "<ipython-input-22-8f2aa8fdb3a9>:14: FutureWarning: The frame.append method is deprecated and will be removed from pandas in a future version. Use pandas.concat instead.\n",
            "  fakes = fakes.append(temp)\n",
            "<ipython-input-22-8f2aa8fdb3a9>:14: FutureWarning: The frame.append method is deprecated and will be removed from pandas in a future version. Use pandas.concat instead.\n",
            "  fakes = fakes.append(temp)\n",
            "<ipython-input-22-8f2aa8fdb3a9>:14: FutureWarning: The frame.append method is deprecated and will be removed from pandas in a future version. Use pandas.concat instead.\n",
            "  fakes = fakes.append(temp)\n",
            "<ipython-input-22-8f2aa8fdb3a9>:14: FutureWarning: The frame.append method is deprecated and will be removed from pandas in a future version. Use pandas.concat instead.\n",
            "  fakes = fakes.append(temp)\n",
            "<ipython-input-22-8f2aa8fdb3a9>:14: FutureWarning: The frame.append method is deprecated and will be removed from pandas in a future version. Use pandas.concat instead.\n",
            "  fakes = fakes.append(temp)\n",
            "<ipython-input-22-8f2aa8fdb3a9>:14: FutureWarning: The frame.append method is deprecated and will be removed from pandas in a future version. Use pandas.concat instead.\n",
            "  fakes = fakes.append(temp)\n",
            "<ipython-input-22-8f2aa8fdb3a9>:14: FutureWarning: The frame.append method is deprecated and will be removed from pandas in a future version. Use pandas.concat instead.\n",
            "  fakes = fakes.append(temp)\n",
            "<ipython-input-22-8f2aa8fdb3a9>:14: FutureWarning: The frame.append method is deprecated and will be removed from pandas in a future version. Use pandas.concat instead.\n",
            "  fakes = fakes.append(temp)\n"
          ]
        },
        {
          "output_type": "execute_result",
          "data": {
            "text/plain": [
              "     sample_id  Gypsum  Fumana_thymifolia  Stipa_tenacissima  \\\n",
              "0            0     1.0                0.0                1.0   \n",
              "1            0     1.0                1.0                0.0   \n",
              "2            0     1.0                0.0                0.0   \n",
              "3            0     1.0                1.0                0.0   \n",
              "4            0     0.0                1.0                1.0   \n",
              "..         ...     ...                ...                ...   \n",
              "995          9     1.0                0.0                0.0   \n",
              "996          9     1.0                0.0                1.0   \n",
              "997          9     0.0                1.0                1.0   \n",
              "998          9     1.0                1.0                1.0   \n",
              "999          9     1.0                0.0                0.0   \n",
              "\n",
              "     Helianthemum_syriacum  Helianthemum_squamatum  Teucrium_libanitis  \\\n",
              "0                      0.0                     0.0                 0.0   \n",
              "1                      1.0                     1.0                 0.0   \n",
              "2                      1.0                     0.0                 0.0   \n",
              "3                      0.0                     1.0                 1.0   \n",
              "4                      0.0                     0.0                 1.0   \n",
              "..                     ...                     ...                 ...   \n",
              "995                    1.0                     0.0                 1.0   \n",
              "996                    1.0                     0.0                 1.0   \n",
              "997                    1.0                     0.0                 0.0   \n",
              "998                    0.0                     0.0                 0.0   \n",
              "999                    1.0                     1.0                 1.0   \n",
              "\n",
              "     Brachypodium_retusum  Fumana_ericoides  \n",
              "0                     1.0               0.0  \n",
              "1                     1.0               0.0  \n",
              "2                     1.0               0.0  \n",
              "3                     0.0               0.0  \n",
              "4                     0.0               0.0  \n",
              "..                    ...               ...  \n",
              "995                   0.0               0.0  \n",
              "996                   0.0               0.0  \n",
              "997                   1.0               0.0  \n",
              "998                   1.0               0.0  \n",
              "999                   0.0               0.0  \n",
              "\n",
              "[9532 rows x 9 columns]"
            ],
            "text/html": [
              "\n",
              "  <div id=\"df-32b6832f-5418-408c-8d71-4787bc8ee2f9\" class=\"colab-df-container\">\n",
              "    <div>\n",
              "<style scoped>\n",
              "    .dataframe tbody tr th:only-of-type {\n",
              "        vertical-align: middle;\n",
              "    }\n",
              "\n",
              "    .dataframe tbody tr th {\n",
              "        vertical-align: top;\n",
              "    }\n",
              "\n",
              "    .dataframe thead th {\n",
              "        text-align: right;\n",
              "    }\n",
              "</style>\n",
              "<table border=\"1\" class=\"dataframe\">\n",
              "  <thead>\n",
              "    <tr style=\"text-align: right;\">\n",
              "      <th></th>\n",
              "      <th>sample_id</th>\n",
              "      <th>Gypsum</th>\n",
              "      <th>Fumana_thymifolia</th>\n",
              "      <th>Stipa_tenacissima</th>\n",
              "      <th>Helianthemum_syriacum</th>\n",
              "      <th>Helianthemum_squamatum</th>\n",
              "      <th>Teucrium_libanitis</th>\n",
              "      <th>Brachypodium_retusum</th>\n",
              "      <th>Fumana_ericoides</th>\n",
              "    </tr>\n",
              "  </thead>\n",
              "  <tbody>\n",
              "    <tr>\n",
              "      <th>0</th>\n",
              "      <td>0</td>\n",
              "      <td>1.0</td>\n",
              "      <td>0.0</td>\n",
              "      <td>1.0</td>\n",
              "      <td>0.0</td>\n",
              "      <td>0.0</td>\n",
              "      <td>0.0</td>\n",
              "      <td>1.0</td>\n",
              "      <td>0.0</td>\n",
              "    </tr>\n",
              "    <tr>\n",
              "      <th>1</th>\n",
              "      <td>0</td>\n",
              "      <td>1.0</td>\n",
              "      <td>1.0</td>\n",
              "      <td>0.0</td>\n",
              "      <td>1.0</td>\n",
              "      <td>1.0</td>\n",
              "      <td>0.0</td>\n",
              "      <td>1.0</td>\n",
              "      <td>0.0</td>\n",
              "    </tr>\n",
              "    <tr>\n",
              "      <th>2</th>\n",
              "      <td>0</td>\n",
              "      <td>1.0</td>\n",
              "      <td>0.0</td>\n",
              "      <td>0.0</td>\n",
              "      <td>1.0</td>\n",
              "      <td>0.0</td>\n",
              "      <td>0.0</td>\n",
              "      <td>1.0</td>\n",
              "      <td>0.0</td>\n",
              "    </tr>\n",
              "    <tr>\n",
              "      <th>3</th>\n",
              "      <td>0</td>\n",
              "      <td>1.0</td>\n",
              "      <td>1.0</td>\n",
              "      <td>0.0</td>\n",
              "      <td>0.0</td>\n",
              "      <td>1.0</td>\n",
              "      <td>1.0</td>\n",
              "      <td>0.0</td>\n",
              "      <td>0.0</td>\n",
              "    </tr>\n",
              "    <tr>\n",
              "      <th>4</th>\n",
              "      <td>0</td>\n",
              "      <td>0.0</td>\n",
              "      <td>1.0</td>\n",
              "      <td>1.0</td>\n",
              "      <td>0.0</td>\n",
              "      <td>0.0</td>\n",
              "      <td>1.0</td>\n",
              "      <td>0.0</td>\n",
              "      <td>0.0</td>\n",
              "    </tr>\n",
              "    <tr>\n",
              "      <th>...</th>\n",
              "      <td>...</td>\n",
              "      <td>...</td>\n",
              "      <td>...</td>\n",
              "      <td>...</td>\n",
              "      <td>...</td>\n",
              "      <td>...</td>\n",
              "      <td>...</td>\n",
              "      <td>...</td>\n",
              "      <td>...</td>\n",
              "    </tr>\n",
              "    <tr>\n",
              "      <th>995</th>\n",
              "      <td>9</td>\n",
              "      <td>1.0</td>\n",
              "      <td>0.0</td>\n",
              "      <td>0.0</td>\n",
              "      <td>1.0</td>\n",
              "      <td>0.0</td>\n",
              "      <td>1.0</td>\n",
              "      <td>0.0</td>\n",
              "      <td>0.0</td>\n",
              "    </tr>\n",
              "    <tr>\n",
              "      <th>996</th>\n",
              "      <td>9</td>\n",
              "      <td>1.0</td>\n",
              "      <td>0.0</td>\n",
              "      <td>1.0</td>\n",
              "      <td>1.0</td>\n",
              "      <td>0.0</td>\n",
              "      <td>1.0</td>\n",
              "      <td>0.0</td>\n",
              "      <td>0.0</td>\n",
              "    </tr>\n",
              "    <tr>\n",
              "      <th>997</th>\n",
              "      <td>9</td>\n",
              "      <td>0.0</td>\n",
              "      <td>1.0</td>\n",
              "      <td>1.0</td>\n",
              "      <td>1.0</td>\n",
              "      <td>0.0</td>\n",
              "      <td>0.0</td>\n",
              "      <td>1.0</td>\n",
              "      <td>0.0</td>\n",
              "    </tr>\n",
              "    <tr>\n",
              "      <th>998</th>\n",
              "      <td>9</td>\n",
              "      <td>1.0</td>\n",
              "      <td>1.0</td>\n",
              "      <td>1.0</td>\n",
              "      <td>0.0</td>\n",
              "      <td>0.0</td>\n",
              "      <td>0.0</td>\n",
              "      <td>1.0</td>\n",
              "      <td>0.0</td>\n",
              "    </tr>\n",
              "    <tr>\n",
              "      <th>999</th>\n",
              "      <td>9</td>\n",
              "      <td>1.0</td>\n",
              "      <td>0.0</td>\n",
              "      <td>0.0</td>\n",
              "      <td>1.0</td>\n",
              "      <td>1.0</td>\n",
              "      <td>1.0</td>\n",
              "      <td>0.0</td>\n",
              "      <td>0.0</td>\n",
              "    </tr>\n",
              "  </tbody>\n",
              "</table>\n",
              "<p>9532 rows × 9 columns</p>\n",
              "</div>\n",
              "    <div class=\"colab-df-buttons\">\n",
              "\n",
              "  <div class=\"colab-df-container\">\n",
              "    <button class=\"colab-df-convert\" onclick=\"convertToInteractive('df-32b6832f-5418-408c-8d71-4787bc8ee2f9')\"\n",
              "            title=\"Convert this dataframe to an interactive table.\"\n",
              "            style=\"display:none;\">\n",
              "\n",
              "  <svg xmlns=\"http://www.w3.org/2000/svg\" height=\"24px\" viewBox=\"0 -960 960 960\">\n",
              "    <path d=\"M120-120v-720h720v720H120Zm60-500h600v-160H180v160Zm220 220h160v-160H400v160Zm0 220h160v-160H400v160ZM180-400h160v-160H180v160Zm440 0h160v-160H620v160ZM180-180h160v-160H180v160Zm440 0h160v-160H620v160Z\"/>\n",
              "  </svg>\n",
              "    </button>\n",
              "\n",
              "  <style>\n",
              "    .colab-df-container {\n",
              "      display:flex;\n",
              "      gap: 12px;\n",
              "    }\n",
              "\n",
              "    .colab-df-convert {\n",
              "      background-color: #E8F0FE;\n",
              "      border: none;\n",
              "      border-radius: 50%;\n",
              "      cursor: pointer;\n",
              "      display: none;\n",
              "      fill: #1967D2;\n",
              "      height: 32px;\n",
              "      padding: 0 0 0 0;\n",
              "      width: 32px;\n",
              "    }\n",
              "\n",
              "    .colab-df-convert:hover {\n",
              "      background-color: #E2EBFA;\n",
              "      box-shadow: 0px 1px 2px rgba(60, 64, 67, 0.3), 0px 1px 3px 1px rgba(60, 64, 67, 0.15);\n",
              "      fill: #174EA6;\n",
              "    }\n",
              "\n",
              "    .colab-df-buttons div {\n",
              "      margin-bottom: 4px;\n",
              "    }\n",
              "\n",
              "    [theme=dark] .colab-df-convert {\n",
              "      background-color: #3B4455;\n",
              "      fill: #D2E3FC;\n",
              "    }\n",
              "\n",
              "    [theme=dark] .colab-df-convert:hover {\n",
              "      background-color: #434B5C;\n",
              "      box-shadow: 0px 1px 3px 1px rgba(0, 0, 0, 0.15);\n",
              "      filter: drop-shadow(0px 1px 2px rgba(0, 0, 0, 0.3));\n",
              "      fill: #FFFFFF;\n",
              "    }\n",
              "  </style>\n",
              "\n",
              "    <script>\n",
              "      const buttonEl =\n",
              "        document.querySelector('#df-32b6832f-5418-408c-8d71-4787bc8ee2f9 button.colab-df-convert');\n",
              "      buttonEl.style.display =\n",
              "        google.colab.kernel.accessAllowed ? 'block' : 'none';\n",
              "\n",
              "      async function convertToInteractive(key) {\n",
              "        const element = document.querySelector('#df-32b6832f-5418-408c-8d71-4787bc8ee2f9');\n",
              "        const dataTable =\n",
              "          await google.colab.kernel.invokeFunction('convertToInteractive',\n",
              "                                                    [key], {});\n",
              "        if (!dataTable) return;\n",
              "\n",
              "        const docLinkHtml = 'Like what you see? Visit the ' +\n",
              "          '<a target=\"_blank\" href=https://colab.research.google.com/notebooks/data_table.ipynb>data table notebook</a>'\n",
              "          + ' to learn more about interactive tables.';\n",
              "        element.innerHTML = '';\n",
              "        dataTable['output_type'] = 'display_data';\n",
              "        await google.colab.output.renderOutput(dataTable, element);\n",
              "        const docLink = document.createElement('div');\n",
              "        docLink.innerHTML = docLinkHtml;\n",
              "        element.appendChild(docLink);\n",
              "      }\n",
              "    </script>\n",
              "  </div>\n",
              "\n",
              "\n",
              "<div id=\"df-29cebbb5-f8c6-40a1-9fc2-19de45186bf4\">\n",
              "  <button class=\"colab-df-quickchart\" onclick=\"quickchart('df-29cebbb5-f8c6-40a1-9fc2-19de45186bf4')\"\n",
              "            title=\"Suggest charts\"\n",
              "            style=\"display:none;\">\n",
              "\n",
              "<svg xmlns=\"http://www.w3.org/2000/svg\" height=\"24px\"viewBox=\"0 0 24 24\"\n",
              "     width=\"24px\">\n",
              "    <g>\n",
              "        <path d=\"M19 3H5c-1.1 0-2 .9-2 2v14c0 1.1.9 2 2 2h14c1.1 0 2-.9 2-2V5c0-1.1-.9-2-2-2zM9 17H7v-7h2v7zm4 0h-2V7h2v10zm4 0h-2v-4h2v4z\"/>\n",
              "    </g>\n",
              "</svg>\n",
              "  </button>\n",
              "\n",
              "<style>\n",
              "  .colab-df-quickchart {\n",
              "      --bg-color: #E8F0FE;\n",
              "      --fill-color: #1967D2;\n",
              "      --hover-bg-color: #E2EBFA;\n",
              "      --hover-fill-color: #174EA6;\n",
              "      --disabled-fill-color: #AAA;\n",
              "      --disabled-bg-color: #DDD;\n",
              "  }\n",
              "\n",
              "  [theme=dark] .colab-df-quickchart {\n",
              "      --bg-color: #3B4455;\n",
              "      --fill-color: #D2E3FC;\n",
              "      --hover-bg-color: #434B5C;\n",
              "      --hover-fill-color: #FFFFFF;\n",
              "      --disabled-bg-color: #3B4455;\n",
              "      --disabled-fill-color: #666;\n",
              "  }\n",
              "\n",
              "  .colab-df-quickchart {\n",
              "    background-color: var(--bg-color);\n",
              "    border: none;\n",
              "    border-radius: 50%;\n",
              "    cursor: pointer;\n",
              "    display: none;\n",
              "    fill: var(--fill-color);\n",
              "    height: 32px;\n",
              "    padding: 0;\n",
              "    width: 32px;\n",
              "  }\n",
              "\n",
              "  .colab-df-quickchart:hover {\n",
              "    background-color: var(--hover-bg-color);\n",
              "    box-shadow: 0 1px 2px rgba(60, 64, 67, 0.3), 0 1px 3px 1px rgba(60, 64, 67, 0.15);\n",
              "    fill: var(--button-hover-fill-color);\n",
              "  }\n",
              "\n",
              "  .colab-df-quickchart-complete:disabled,\n",
              "  .colab-df-quickchart-complete:disabled:hover {\n",
              "    background-color: var(--disabled-bg-color);\n",
              "    fill: var(--disabled-fill-color);\n",
              "    box-shadow: none;\n",
              "  }\n",
              "\n",
              "  .colab-df-spinner {\n",
              "    border: 2px solid var(--fill-color);\n",
              "    border-color: transparent;\n",
              "    border-bottom-color: var(--fill-color);\n",
              "    animation:\n",
              "      spin 1s steps(1) infinite;\n",
              "  }\n",
              "\n",
              "  @keyframes spin {\n",
              "    0% {\n",
              "      border-color: transparent;\n",
              "      border-bottom-color: var(--fill-color);\n",
              "      border-left-color: var(--fill-color);\n",
              "    }\n",
              "    20% {\n",
              "      border-color: transparent;\n",
              "      border-left-color: var(--fill-color);\n",
              "      border-top-color: var(--fill-color);\n",
              "    }\n",
              "    30% {\n",
              "      border-color: transparent;\n",
              "      border-left-color: var(--fill-color);\n",
              "      border-top-color: var(--fill-color);\n",
              "      border-right-color: var(--fill-color);\n",
              "    }\n",
              "    40% {\n",
              "      border-color: transparent;\n",
              "      border-right-color: var(--fill-color);\n",
              "      border-top-color: var(--fill-color);\n",
              "    }\n",
              "    60% {\n",
              "      border-color: transparent;\n",
              "      border-right-color: var(--fill-color);\n",
              "    }\n",
              "    80% {\n",
              "      border-color: transparent;\n",
              "      border-right-color: var(--fill-color);\n",
              "      border-bottom-color: var(--fill-color);\n",
              "    }\n",
              "    90% {\n",
              "      border-color: transparent;\n",
              "      border-bottom-color: var(--fill-color);\n",
              "    }\n",
              "  }\n",
              "</style>\n",
              "\n",
              "  <script>\n",
              "    async function quickchart(key) {\n",
              "      const quickchartButtonEl =\n",
              "        document.querySelector('#' + key + ' button');\n",
              "      quickchartButtonEl.disabled = true;  // To prevent multiple clicks.\n",
              "      quickchartButtonEl.classList.add('colab-df-spinner');\n",
              "      try {\n",
              "        const charts = await google.colab.kernel.invokeFunction(\n",
              "            'suggestCharts', [key], {});\n",
              "      } catch (error) {\n",
              "        console.error('Error during call to suggestCharts:', error);\n",
              "      }\n",
              "      quickchartButtonEl.classList.remove('colab-df-spinner');\n",
              "      quickchartButtonEl.classList.add('colab-df-quickchart-complete');\n",
              "    }\n",
              "    (() => {\n",
              "      let quickchartButtonEl =\n",
              "        document.querySelector('#df-29cebbb5-f8c6-40a1-9fc2-19de45186bf4 button');\n",
              "      quickchartButtonEl.style.display =\n",
              "        google.colab.kernel.accessAllowed ? 'block' : 'none';\n",
              "    })();\n",
              "  </script>\n",
              "</div>\n",
              "    </div>\n",
              "  </div>\n"
            ]
          },
          "metadata": {},
          "execution_count": 22
        }
      ]
    },
    {
      "cell_type": "markdown",
      "metadata": {
        "id": "aE4MqskFGQMa"
      },
      "source": [
        "Summary of GAN processing"
      ]
    },
    {
      "cell_type": "code",
      "metadata": {
        "colab": {
          "base_uri": "https://localhost:8080/",
          "height": 168
        },
        "id": "Lbrj-o7xDNRh",
        "outputId": "53f4b9bd-cc42-4e25-c49e-fb273580d5eb"
      },
      "source": [
        "dir_name = google_drive_dir+'saved_fakes'\n",
        "\n",
        "pattern =os.path.join(dir_name,'GAN_fakes__GAN__noise_sz=*__n_vars=*__incl_soil=*__n_epochs=*__n_fakes=*.parquet.gzip')\n",
        "\n",
        "fakes_list = glob.glob(pattern)\n",
        "\n",
        "df = pd.DataFrame()\n",
        "for file_name in fakes_list:\n",
        "    n_vars = file_name.split('n_vars=')[-1].split('__')[0]\n",
        "    incl_soil = file_name.split('incl_soil=')[-1].split('__')[0]\n",
        "    noise_sz = file_name.split('noise_sz=')[-1].split('__')[0]\n",
        "    n_epochs = file_name.split('n_epochs=')[-1].split('__')[0]\n",
        "    temp = pd.DataFrame([eval(n_vars),eval(incl_soil),eval(noise_sz),eval(n_epochs),file_name]).T\n",
        "    df=df.append(temp,ignore_index=True)\n",
        "\n",
        "\n",
        "df.columns=['n_vars','include soil','noise_sz','n_epochs','file name']\n",
        "count_GAN_runs = df.groupby(['n_vars','include soil','noise_sz','n_epochs']).count()\n",
        "count_GAN_runs.columns = ['number of GAN runs recorded']\n",
        "count_GAN_runs"
      ],
      "execution_count": 23,
      "outputs": [
        {
          "output_type": "stream",
          "name": "stderr",
          "text": [
            "<ipython-input-23-f255d086ebb9>:14: FutureWarning: The frame.append method is deprecated and will be removed from pandas in a future version. Use pandas.concat instead.\n",
            "  df=df.append(temp,ignore_index=True)\n"
          ]
        },
        {
          "output_type": "execute_result",
          "data": {
            "text/plain": [
              "                                       number of GAN runs recorded\n",
              "n_vars include soil noise_sz n_epochs                             \n",
              "8      True         6        10                                 10"
            ],
            "text/html": [
              "\n",
              "  <div id=\"df-4252bf1a-3808-4894-8100-df565399e3b7\" class=\"colab-df-container\">\n",
              "    <div>\n",
              "<style scoped>\n",
              "    .dataframe tbody tr th:only-of-type {\n",
              "        vertical-align: middle;\n",
              "    }\n",
              "\n",
              "    .dataframe tbody tr th {\n",
              "        vertical-align: top;\n",
              "    }\n",
              "\n",
              "    .dataframe thead th {\n",
              "        text-align: right;\n",
              "    }\n",
              "</style>\n",
              "<table border=\"1\" class=\"dataframe\">\n",
              "  <thead>\n",
              "    <tr style=\"text-align: right;\">\n",
              "      <th></th>\n",
              "      <th></th>\n",
              "      <th></th>\n",
              "      <th></th>\n",
              "      <th>number of GAN runs recorded</th>\n",
              "    </tr>\n",
              "    <tr>\n",
              "      <th>n_vars</th>\n",
              "      <th>include soil</th>\n",
              "      <th>noise_sz</th>\n",
              "      <th>n_epochs</th>\n",
              "      <th></th>\n",
              "    </tr>\n",
              "  </thead>\n",
              "  <tbody>\n",
              "    <tr>\n",
              "      <th>8</th>\n",
              "      <th>True</th>\n",
              "      <th>6</th>\n",
              "      <th>10</th>\n",
              "      <td>10</td>\n",
              "    </tr>\n",
              "  </tbody>\n",
              "</table>\n",
              "</div>\n",
              "    <div class=\"colab-df-buttons\">\n",
              "\n",
              "  <div class=\"colab-df-container\">\n",
              "    <button class=\"colab-df-convert\" onclick=\"convertToInteractive('df-4252bf1a-3808-4894-8100-df565399e3b7')\"\n",
              "            title=\"Convert this dataframe to an interactive table.\"\n",
              "            style=\"display:none;\">\n",
              "\n",
              "  <svg xmlns=\"http://www.w3.org/2000/svg\" height=\"24px\" viewBox=\"0 -960 960 960\">\n",
              "    <path d=\"M120-120v-720h720v720H120Zm60-500h600v-160H180v160Zm220 220h160v-160H400v160Zm0 220h160v-160H400v160ZM180-400h160v-160H180v160Zm440 0h160v-160H620v160ZM180-180h160v-160H180v160Zm440 0h160v-160H620v160Z\"/>\n",
              "  </svg>\n",
              "    </button>\n",
              "\n",
              "  <style>\n",
              "    .colab-df-container {\n",
              "      display:flex;\n",
              "      gap: 12px;\n",
              "    }\n",
              "\n",
              "    .colab-df-convert {\n",
              "      background-color: #E8F0FE;\n",
              "      border: none;\n",
              "      border-radius: 50%;\n",
              "      cursor: pointer;\n",
              "      display: none;\n",
              "      fill: #1967D2;\n",
              "      height: 32px;\n",
              "      padding: 0 0 0 0;\n",
              "      width: 32px;\n",
              "    }\n",
              "\n",
              "    .colab-df-convert:hover {\n",
              "      background-color: #E2EBFA;\n",
              "      box-shadow: 0px 1px 2px rgba(60, 64, 67, 0.3), 0px 1px 3px 1px rgba(60, 64, 67, 0.15);\n",
              "      fill: #174EA6;\n",
              "    }\n",
              "\n",
              "    .colab-df-buttons div {\n",
              "      margin-bottom: 4px;\n",
              "    }\n",
              "\n",
              "    [theme=dark] .colab-df-convert {\n",
              "      background-color: #3B4455;\n",
              "      fill: #D2E3FC;\n",
              "    }\n",
              "\n",
              "    [theme=dark] .colab-df-convert:hover {\n",
              "      background-color: #434B5C;\n",
              "      box-shadow: 0px 1px 3px 1px rgba(0, 0, 0, 0.15);\n",
              "      filter: drop-shadow(0px 1px 2px rgba(0, 0, 0, 0.3));\n",
              "      fill: #FFFFFF;\n",
              "    }\n",
              "  </style>\n",
              "\n",
              "    <script>\n",
              "      const buttonEl =\n",
              "        document.querySelector('#df-4252bf1a-3808-4894-8100-df565399e3b7 button.colab-df-convert');\n",
              "      buttonEl.style.display =\n",
              "        google.colab.kernel.accessAllowed ? 'block' : 'none';\n",
              "\n",
              "      async function convertToInteractive(key) {\n",
              "        const element = document.querySelector('#df-4252bf1a-3808-4894-8100-df565399e3b7');\n",
              "        const dataTable =\n",
              "          await google.colab.kernel.invokeFunction('convertToInteractive',\n",
              "                                                    [key], {});\n",
              "        if (!dataTable) return;\n",
              "\n",
              "        const docLinkHtml = 'Like what you see? Visit the ' +\n",
              "          '<a target=\"_blank\" href=https://colab.research.google.com/notebooks/data_table.ipynb>data table notebook</a>'\n",
              "          + ' to learn more about interactive tables.';\n",
              "        element.innerHTML = '';\n",
              "        dataTable['output_type'] = 'display_data';\n",
              "        await google.colab.output.renderOutput(dataTable, element);\n",
              "        const docLink = document.createElement('div');\n",
              "        docLink.innerHTML = docLinkHtml;\n",
              "        element.appendChild(docLink);\n",
              "      }\n",
              "    </script>\n",
              "  </div>\n",
              "\n",
              "    </div>\n",
              "  </div>\n"
            ]
          },
          "metadata": {},
          "execution_count": 23
        }
      ]
    },
    {
      "cell_type": "markdown",
      "metadata": {
        "id": "hmj_uS0xlkpt"
      },
      "source": [
        "## Boostrapping on the fake patches"
      ]
    },
    {
      "cell_type": "markdown",
      "metadata": {
        "id": "qnK_iD_4GZ9l"
      },
      "source": [
        "Compute probabilities for fake patches"
      ]
    },
    {
      "cell_type": "code",
      "metadata": {
        "ExecuteTime": {
          "end_time": "2021-04-16T08:42:01.707907Z",
          "start_time": "2021-04-16T08:41:16.332963Z"
        },
        "id": "xzFoFqNflkpu",
        "colab": {
          "base_uri": "https://localhost:8080/",
          "height": 641,
          "referenced_widgets": [
            "975293d82b654813a11c384e14c8e7d8",
            "3539870ae23b497cad935d8aa6b3bc88",
            "09cd6307702c48b583e9829520b3f242",
            "f2ca6be2f6c14fd48d7f7a98d70c420d",
            "9d5350d9eed843269610c1b7961892c5",
            "14545be6797e4ffd801213840970f708",
            "a85e11cd3389423a8d89f780f934693b",
            "ea41948c7194450d86a774daad2e8612",
            "05be9774b1f5499a98407aaab300f8aa",
            "f83e360900d14d1e936a49979b0ee0fa",
            "3b8fe6ac1f334b71840a2367ce8fb729"
          ]
        },
        "outputId": "28f554ee-90fc-4e02-bdec-41d05f32524e"
      },
      "source": [
        "# can take several minutes for a few populations of patches 8 variables up to quadratic interactions\n",
        "dir_name = google_drive_dir+'saved_stats'\n",
        "if not os.path.exists(dir_name):\n",
        "        os.mkdir(dir_name)\n",
        "\n",
        "stats_fakes = compute_stats(fakes)\n",
        "file_name =os.path.join(dir_name,'stats_fakes__GAN__n_vars='+str(n_vars)+'__incl_soil='+str(incl_soil)+'__noise_sz='+str(noise_sz)+'__n_epochs='+str(n_epochs)+'.parquet.gzip')\n",
        "stats_fakes.to_parquet(file_name,compression='gzip')"
      ],
      "execution_count": 24,
      "outputs": [
        {
          "output_type": "display_data",
          "data": {
            "text/plain": [
              "Computing probabilities ::   0%|          | 0/10 [00:00<?, ?it/s]"
            ],
            "application/vnd.jupyter.widget-view+json": {
              "version_major": 2,
              "version_minor": 0,
              "model_id": "975293d82b654813a11c384e14c8e7d8"
            }
          },
          "metadata": {}
        },
        {
          "output_type": "stream",
          "name": "stderr",
          "text": [
            "<ipython-input-19-2d065a7ea317>:16: FutureWarning: The frame.append method is deprecated and will be removed from pandas in a future version. Use pandas.concat instead.\n",
            "  temp=temp.append(pd.DataFrame([var_names[i],var_names[j],var_names[k]\n",
            "<ipython-input-19-2d065a7ea317>:31: RuntimeWarning: invalid value encountered in double_scalars\n",
            "  ,joint[i,j,k,l]/joint[j,k,l,l] # p(a|b,c,d)\n",
            "<ipython-input-19-2d065a7ea317>:16: FutureWarning: The frame.append method is deprecated and will be removed from pandas in a future version. Use pandas.concat instead.\n",
            "  temp=temp.append(pd.DataFrame([var_names[i],var_names[j],var_names[k]\n",
            "<ipython-input-19-2d065a7ea317>:16: FutureWarning: The frame.append method is deprecated and will be removed from pandas in a future version. Use pandas.concat instead.\n",
            "  temp=temp.append(pd.DataFrame([var_names[i],var_names[j],var_names[k]\n",
            "<ipython-input-19-2d065a7ea317>:16: FutureWarning: The frame.append method is deprecated and will be removed from pandas in a future version. Use pandas.concat instead.\n",
            "  temp=temp.append(pd.DataFrame([var_names[i],var_names[j],var_names[k]\n",
            "<ipython-input-19-2d065a7ea317>:16: FutureWarning: The frame.append method is deprecated and will be removed from pandas in a future version. Use pandas.concat instead.\n",
            "  temp=temp.append(pd.DataFrame([var_names[i],var_names[j],var_names[k]\n",
            "<ipython-input-19-2d065a7ea317>:31: RuntimeWarning: invalid value encountered in double_scalars\n",
            "  ,joint[i,j,k,l]/joint[j,k,l,l] # p(a|b,c,d)\n",
            "<ipython-input-19-2d065a7ea317>:16: FutureWarning: The frame.append method is deprecated and will be removed from pandas in a future version. Use pandas.concat instead.\n",
            "  temp=temp.append(pd.DataFrame([var_names[i],var_names[j],var_names[k]\n",
            "<ipython-input-19-2d065a7ea317>:16: FutureWarning: The frame.append method is deprecated and will be removed from pandas in a future version. Use pandas.concat instead.\n",
            "  temp=temp.append(pd.DataFrame([var_names[i],var_names[j],var_names[k]\n",
            "<ipython-input-19-2d065a7ea317>:16: FutureWarning: The frame.append method is deprecated and will be removed from pandas in a future version. Use pandas.concat instead.\n",
            "  temp=temp.append(pd.DataFrame([var_names[i],var_names[j],var_names[k]\n",
            "<ipython-input-19-2d065a7ea317>:31: RuntimeWarning: invalid value encountered in double_scalars\n",
            "  ,joint[i,j,k,l]/joint[j,k,l,l] # p(a|b,c,d)\n",
            "<ipython-input-19-2d065a7ea317>:30: RuntimeWarning: invalid value encountered in double_scalars\n",
            "  ,joint[i,j,k,k]/joint[j,k,k,k] # p(a|b,c)\n",
            "<ipython-input-19-2d065a7ea317>:16: FutureWarning: The frame.append method is deprecated and will be removed from pandas in a future version. Use pandas.concat instead.\n",
            "  temp=temp.append(pd.DataFrame([var_names[i],var_names[j],var_names[k]\n",
            "<ipython-input-19-2d065a7ea317>:31: RuntimeWarning: invalid value encountered in double_scalars\n",
            "  ,joint[i,j,k,l]/joint[j,k,l,l] # p(a|b,c,d)\n",
            "<ipython-input-19-2d065a7ea317>:16: FutureWarning: The frame.append method is deprecated and will be removed from pandas in a future version. Use pandas.concat instead.\n",
            "  temp=temp.append(pd.DataFrame([var_names[i],var_names[j],var_names[k]\n",
            "<ipython-input-19-2d065a7ea317>:31: RuntimeWarning: invalid value encountered in double_scalars\n",
            "  ,joint[i,j,k,l]/joint[j,k,l,l] # p(a|b,c,d)\n"
          ]
        }
      ]
    },
    {
      "cell_type": "markdown",
      "metadata": {
        "id": "SbzQqYh853Xi"
      },
      "source": [
        "## Boostrapping on the real patches"
      ]
    },
    {
      "cell_type": "markdown",
      "metadata": {
        "id": "VaH0eARXGdcy"
      },
      "source": [
        "Compute probabilites for real patches"
      ]
    },
    {
      "cell_type": "code",
      "metadata": {
        "colab": {
          "base_uri": "https://localhost:8080/",
          "height": 1000
        },
        "id": "EyMpif456MEC",
        "outputId": "14e54988-902f-475c-f448-04c5267738bb"
      },
      "source": [
        "n_resamples=30\n",
        "reals=pd.DataFrame()\n",
        "for i in range(n_resamples):\n",
        "    temp=X.sample(frac=1, replace=True)\n",
        "    temp.insert(0,'sample_id',i)\n",
        "    reals=reals.append(temp).reset_index(drop=True)\n",
        "reals"
      ],
      "execution_count": 25,
      "outputs": [
        {
          "output_type": "stream",
          "name": "stderr",
          "text": [
            "<ipython-input-25-53b3c4b00742>:6: FutureWarning: The frame.append method is deprecated and will be removed from pandas in a future version. Use pandas.concat instead.\n",
            "  reals=reals.append(temp).reset_index(drop=True)\n",
            "<ipython-input-25-53b3c4b00742>:6: FutureWarning: The frame.append method is deprecated and will be removed from pandas in a future version. Use pandas.concat instead.\n",
            "  reals=reals.append(temp).reset_index(drop=True)\n",
            "<ipython-input-25-53b3c4b00742>:6: FutureWarning: The frame.append method is deprecated and will be removed from pandas in a future version. Use pandas.concat instead.\n",
            "  reals=reals.append(temp).reset_index(drop=True)\n",
            "<ipython-input-25-53b3c4b00742>:6: FutureWarning: The frame.append method is deprecated and will be removed from pandas in a future version. Use pandas.concat instead.\n",
            "  reals=reals.append(temp).reset_index(drop=True)\n",
            "<ipython-input-25-53b3c4b00742>:6: FutureWarning: The frame.append method is deprecated and will be removed from pandas in a future version. Use pandas.concat instead.\n",
            "  reals=reals.append(temp).reset_index(drop=True)\n",
            "<ipython-input-25-53b3c4b00742>:6: FutureWarning: The frame.append method is deprecated and will be removed from pandas in a future version. Use pandas.concat instead.\n",
            "  reals=reals.append(temp).reset_index(drop=True)\n",
            "<ipython-input-25-53b3c4b00742>:6: FutureWarning: The frame.append method is deprecated and will be removed from pandas in a future version. Use pandas.concat instead.\n",
            "  reals=reals.append(temp).reset_index(drop=True)\n",
            "<ipython-input-25-53b3c4b00742>:6: FutureWarning: The frame.append method is deprecated and will be removed from pandas in a future version. Use pandas.concat instead.\n",
            "  reals=reals.append(temp).reset_index(drop=True)\n",
            "<ipython-input-25-53b3c4b00742>:6: FutureWarning: The frame.append method is deprecated and will be removed from pandas in a future version. Use pandas.concat instead.\n",
            "  reals=reals.append(temp).reset_index(drop=True)\n",
            "<ipython-input-25-53b3c4b00742>:6: FutureWarning: The frame.append method is deprecated and will be removed from pandas in a future version. Use pandas.concat instead.\n",
            "  reals=reals.append(temp).reset_index(drop=True)\n",
            "<ipython-input-25-53b3c4b00742>:6: FutureWarning: The frame.append method is deprecated and will be removed from pandas in a future version. Use pandas.concat instead.\n",
            "  reals=reals.append(temp).reset_index(drop=True)\n",
            "<ipython-input-25-53b3c4b00742>:6: FutureWarning: The frame.append method is deprecated and will be removed from pandas in a future version. Use pandas.concat instead.\n",
            "  reals=reals.append(temp).reset_index(drop=True)\n",
            "<ipython-input-25-53b3c4b00742>:6: FutureWarning: The frame.append method is deprecated and will be removed from pandas in a future version. Use pandas.concat instead.\n",
            "  reals=reals.append(temp).reset_index(drop=True)\n",
            "<ipython-input-25-53b3c4b00742>:6: FutureWarning: The frame.append method is deprecated and will be removed from pandas in a future version. Use pandas.concat instead.\n",
            "  reals=reals.append(temp).reset_index(drop=True)\n",
            "<ipython-input-25-53b3c4b00742>:6: FutureWarning: The frame.append method is deprecated and will be removed from pandas in a future version. Use pandas.concat instead.\n",
            "  reals=reals.append(temp).reset_index(drop=True)\n",
            "<ipython-input-25-53b3c4b00742>:6: FutureWarning: The frame.append method is deprecated and will be removed from pandas in a future version. Use pandas.concat instead.\n",
            "  reals=reals.append(temp).reset_index(drop=True)\n",
            "<ipython-input-25-53b3c4b00742>:6: FutureWarning: The frame.append method is deprecated and will be removed from pandas in a future version. Use pandas.concat instead.\n",
            "  reals=reals.append(temp).reset_index(drop=True)\n",
            "<ipython-input-25-53b3c4b00742>:6: FutureWarning: The frame.append method is deprecated and will be removed from pandas in a future version. Use pandas.concat instead.\n",
            "  reals=reals.append(temp).reset_index(drop=True)\n",
            "<ipython-input-25-53b3c4b00742>:6: FutureWarning: The frame.append method is deprecated and will be removed from pandas in a future version. Use pandas.concat instead.\n",
            "  reals=reals.append(temp).reset_index(drop=True)\n",
            "<ipython-input-25-53b3c4b00742>:6: FutureWarning: The frame.append method is deprecated and will be removed from pandas in a future version. Use pandas.concat instead.\n",
            "  reals=reals.append(temp).reset_index(drop=True)\n",
            "<ipython-input-25-53b3c4b00742>:6: FutureWarning: The frame.append method is deprecated and will be removed from pandas in a future version. Use pandas.concat instead.\n",
            "  reals=reals.append(temp).reset_index(drop=True)\n",
            "<ipython-input-25-53b3c4b00742>:6: FutureWarning: The frame.append method is deprecated and will be removed from pandas in a future version. Use pandas.concat instead.\n",
            "  reals=reals.append(temp).reset_index(drop=True)\n",
            "<ipython-input-25-53b3c4b00742>:6: FutureWarning: The frame.append method is deprecated and will be removed from pandas in a future version. Use pandas.concat instead.\n",
            "  reals=reals.append(temp).reset_index(drop=True)\n",
            "<ipython-input-25-53b3c4b00742>:6: FutureWarning: The frame.append method is deprecated and will be removed from pandas in a future version. Use pandas.concat instead.\n",
            "  reals=reals.append(temp).reset_index(drop=True)\n",
            "<ipython-input-25-53b3c4b00742>:6: FutureWarning: The frame.append method is deprecated and will be removed from pandas in a future version. Use pandas.concat instead.\n",
            "  reals=reals.append(temp).reset_index(drop=True)\n",
            "<ipython-input-25-53b3c4b00742>:6: FutureWarning: The frame.append method is deprecated and will be removed from pandas in a future version. Use pandas.concat instead.\n",
            "  reals=reals.append(temp).reset_index(drop=True)\n",
            "<ipython-input-25-53b3c4b00742>:6: FutureWarning: The frame.append method is deprecated and will be removed from pandas in a future version. Use pandas.concat instead.\n",
            "  reals=reals.append(temp).reset_index(drop=True)\n",
            "<ipython-input-25-53b3c4b00742>:6: FutureWarning: The frame.append method is deprecated and will be removed from pandas in a future version. Use pandas.concat instead.\n",
            "  reals=reals.append(temp).reset_index(drop=True)\n",
            "<ipython-input-25-53b3c4b00742>:6: FutureWarning: The frame.append method is deprecated and will be removed from pandas in a future version. Use pandas.concat instead.\n",
            "  reals=reals.append(temp).reset_index(drop=True)\n",
            "<ipython-input-25-53b3c4b00742>:6: FutureWarning: The frame.append method is deprecated and will be removed from pandas in a future version. Use pandas.concat instead.\n",
            "  reals=reals.append(temp).reset_index(drop=True)\n"
          ]
        },
        {
          "output_type": "execute_result",
          "data": {
            "text/plain": [
              "species  sample_id  Gypsum  Fumana_thymifolia  Stipa_tenacissima  \\\n",
              "0                0       1                  0                  0   \n",
              "1                0       1                  0                  0   \n",
              "2                0       0                  1                  1   \n",
              "3                0       0                  1                  0   \n",
              "4                0       1                  0                  0   \n",
              "...            ...     ...                ...                ...   \n",
              "77425           29       0                  1                  1   \n",
              "77426           29       0                  1                  0   \n",
              "77427           29       0                  1                  1   \n",
              "77428           29       0                  1                  1   \n",
              "77429           29       0                  1                  1   \n",
              "\n",
              "species  Helianthemum_syriacum  Helianthemum_squamatum  Teucrium_libanitis  \\\n",
              "0                            1                       0                   1   \n",
              "1                            0                       1                   1   \n",
              "2                            0                       0                   0   \n",
              "3                            0                       0                   0   \n",
              "4                            1                       0                   1   \n",
              "...                        ...                     ...                 ...   \n",
              "77425                        0                       0                   0   \n",
              "77426                        0                       0                   0   \n",
              "77427                        0                       0                   0   \n",
              "77428                        0                       0                   0   \n",
              "77429                        0                       0                   0   \n",
              "\n",
              "species  Brachypodium_retusum  Fumana_ericoides  \n",
              "0                           0                 0  \n",
              "1                           0                 0  \n",
              "2                           1                 1  \n",
              "3                           1                 0  \n",
              "4                           0                 0  \n",
              "...                       ...               ...  \n",
              "77425                       0                 0  \n",
              "77426                       1                 0  \n",
              "77427                       1                 1  \n",
              "77428                       1                 0  \n",
              "77429                       0                 0  \n",
              "\n",
              "[77430 rows x 9 columns]"
            ],
            "text/html": [
              "\n",
              "  <div id=\"df-ac5427ee-c1ef-4d49-9ccd-38011b4efd3d\" class=\"colab-df-container\">\n",
              "    <div>\n",
              "<style scoped>\n",
              "    .dataframe tbody tr th:only-of-type {\n",
              "        vertical-align: middle;\n",
              "    }\n",
              "\n",
              "    .dataframe tbody tr th {\n",
              "        vertical-align: top;\n",
              "    }\n",
              "\n",
              "    .dataframe thead th {\n",
              "        text-align: right;\n",
              "    }\n",
              "</style>\n",
              "<table border=\"1\" class=\"dataframe\">\n",
              "  <thead>\n",
              "    <tr style=\"text-align: right;\">\n",
              "      <th>species</th>\n",
              "      <th>sample_id</th>\n",
              "      <th>Gypsum</th>\n",
              "      <th>Fumana_thymifolia</th>\n",
              "      <th>Stipa_tenacissima</th>\n",
              "      <th>Helianthemum_syriacum</th>\n",
              "      <th>Helianthemum_squamatum</th>\n",
              "      <th>Teucrium_libanitis</th>\n",
              "      <th>Brachypodium_retusum</th>\n",
              "      <th>Fumana_ericoides</th>\n",
              "    </tr>\n",
              "  </thead>\n",
              "  <tbody>\n",
              "    <tr>\n",
              "      <th>0</th>\n",
              "      <td>0</td>\n",
              "      <td>1</td>\n",
              "      <td>0</td>\n",
              "      <td>0</td>\n",
              "      <td>1</td>\n",
              "      <td>0</td>\n",
              "      <td>1</td>\n",
              "      <td>0</td>\n",
              "      <td>0</td>\n",
              "    </tr>\n",
              "    <tr>\n",
              "      <th>1</th>\n",
              "      <td>0</td>\n",
              "      <td>1</td>\n",
              "      <td>0</td>\n",
              "      <td>0</td>\n",
              "      <td>0</td>\n",
              "      <td>1</td>\n",
              "      <td>1</td>\n",
              "      <td>0</td>\n",
              "      <td>0</td>\n",
              "    </tr>\n",
              "    <tr>\n",
              "      <th>2</th>\n",
              "      <td>0</td>\n",
              "      <td>0</td>\n",
              "      <td>1</td>\n",
              "      <td>1</td>\n",
              "      <td>0</td>\n",
              "      <td>0</td>\n",
              "      <td>0</td>\n",
              "      <td>1</td>\n",
              "      <td>1</td>\n",
              "    </tr>\n",
              "    <tr>\n",
              "      <th>3</th>\n",
              "      <td>0</td>\n",
              "      <td>0</td>\n",
              "      <td>1</td>\n",
              "      <td>0</td>\n",
              "      <td>0</td>\n",
              "      <td>0</td>\n",
              "      <td>0</td>\n",
              "      <td>1</td>\n",
              "      <td>0</td>\n",
              "    </tr>\n",
              "    <tr>\n",
              "      <th>4</th>\n",
              "      <td>0</td>\n",
              "      <td>1</td>\n",
              "      <td>0</td>\n",
              "      <td>0</td>\n",
              "      <td>1</td>\n",
              "      <td>0</td>\n",
              "      <td>1</td>\n",
              "      <td>0</td>\n",
              "      <td>0</td>\n",
              "    </tr>\n",
              "    <tr>\n",
              "      <th>...</th>\n",
              "      <td>...</td>\n",
              "      <td>...</td>\n",
              "      <td>...</td>\n",
              "      <td>...</td>\n",
              "      <td>...</td>\n",
              "      <td>...</td>\n",
              "      <td>...</td>\n",
              "      <td>...</td>\n",
              "      <td>...</td>\n",
              "    </tr>\n",
              "    <tr>\n",
              "      <th>77425</th>\n",
              "      <td>29</td>\n",
              "      <td>0</td>\n",
              "      <td>1</td>\n",
              "      <td>1</td>\n",
              "      <td>0</td>\n",
              "      <td>0</td>\n",
              "      <td>0</td>\n",
              "      <td>0</td>\n",
              "      <td>0</td>\n",
              "    </tr>\n",
              "    <tr>\n",
              "      <th>77426</th>\n",
              "      <td>29</td>\n",
              "      <td>0</td>\n",
              "      <td>1</td>\n",
              "      <td>0</td>\n",
              "      <td>0</td>\n",
              "      <td>0</td>\n",
              "      <td>0</td>\n",
              "      <td>1</td>\n",
              "      <td>0</td>\n",
              "    </tr>\n",
              "    <tr>\n",
              "      <th>77427</th>\n",
              "      <td>29</td>\n",
              "      <td>0</td>\n",
              "      <td>1</td>\n",
              "      <td>1</td>\n",
              "      <td>0</td>\n",
              "      <td>0</td>\n",
              "      <td>0</td>\n",
              "      <td>1</td>\n",
              "      <td>1</td>\n",
              "    </tr>\n",
              "    <tr>\n",
              "      <th>77428</th>\n",
              "      <td>29</td>\n",
              "      <td>0</td>\n",
              "      <td>1</td>\n",
              "      <td>1</td>\n",
              "      <td>0</td>\n",
              "      <td>0</td>\n",
              "      <td>0</td>\n",
              "      <td>1</td>\n",
              "      <td>0</td>\n",
              "    </tr>\n",
              "    <tr>\n",
              "      <th>77429</th>\n",
              "      <td>29</td>\n",
              "      <td>0</td>\n",
              "      <td>1</td>\n",
              "      <td>1</td>\n",
              "      <td>0</td>\n",
              "      <td>0</td>\n",
              "      <td>0</td>\n",
              "      <td>0</td>\n",
              "      <td>0</td>\n",
              "    </tr>\n",
              "  </tbody>\n",
              "</table>\n",
              "<p>77430 rows × 9 columns</p>\n",
              "</div>\n",
              "    <div class=\"colab-df-buttons\">\n",
              "\n",
              "  <div class=\"colab-df-container\">\n",
              "    <button class=\"colab-df-convert\" onclick=\"convertToInteractive('df-ac5427ee-c1ef-4d49-9ccd-38011b4efd3d')\"\n",
              "            title=\"Convert this dataframe to an interactive table.\"\n",
              "            style=\"display:none;\">\n",
              "\n",
              "  <svg xmlns=\"http://www.w3.org/2000/svg\" height=\"24px\" viewBox=\"0 -960 960 960\">\n",
              "    <path d=\"M120-120v-720h720v720H120Zm60-500h600v-160H180v160Zm220 220h160v-160H400v160Zm0 220h160v-160H400v160ZM180-400h160v-160H180v160Zm440 0h160v-160H620v160ZM180-180h160v-160H180v160Zm440 0h160v-160H620v160Z\"/>\n",
              "  </svg>\n",
              "    </button>\n",
              "\n",
              "  <style>\n",
              "    .colab-df-container {\n",
              "      display:flex;\n",
              "      gap: 12px;\n",
              "    }\n",
              "\n",
              "    .colab-df-convert {\n",
              "      background-color: #E8F0FE;\n",
              "      border: none;\n",
              "      border-radius: 50%;\n",
              "      cursor: pointer;\n",
              "      display: none;\n",
              "      fill: #1967D2;\n",
              "      height: 32px;\n",
              "      padding: 0 0 0 0;\n",
              "      width: 32px;\n",
              "    }\n",
              "\n",
              "    .colab-df-convert:hover {\n",
              "      background-color: #E2EBFA;\n",
              "      box-shadow: 0px 1px 2px rgba(60, 64, 67, 0.3), 0px 1px 3px 1px rgba(60, 64, 67, 0.15);\n",
              "      fill: #174EA6;\n",
              "    }\n",
              "\n",
              "    .colab-df-buttons div {\n",
              "      margin-bottom: 4px;\n",
              "    }\n",
              "\n",
              "    [theme=dark] .colab-df-convert {\n",
              "      background-color: #3B4455;\n",
              "      fill: #D2E3FC;\n",
              "    }\n",
              "\n",
              "    [theme=dark] .colab-df-convert:hover {\n",
              "      background-color: #434B5C;\n",
              "      box-shadow: 0px 1px 3px 1px rgba(0, 0, 0, 0.15);\n",
              "      filter: drop-shadow(0px 1px 2px rgba(0, 0, 0, 0.3));\n",
              "      fill: #FFFFFF;\n",
              "    }\n",
              "  </style>\n",
              "\n",
              "    <script>\n",
              "      const buttonEl =\n",
              "        document.querySelector('#df-ac5427ee-c1ef-4d49-9ccd-38011b4efd3d button.colab-df-convert');\n",
              "      buttonEl.style.display =\n",
              "        google.colab.kernel.accessAllowed ? 'block' : 'none';\n",
              "\n",
              "      async function convertToInteractive(key) {\n",
              "        const element = document.querySelector('#df-ac5427ee-c1ef-4d49-9ccd-38011b4efd3d');\n",
              "        const dataTable =\n",
              "          await google.colab.kernel.invokeFunction('convertToInteractive',\n",
              "                                                    [key], {});\n",
              "        if (!dataTable) return;\n",
              "\n",
              "        const docLinkHtml = 'Like what you see? Visit the ' +\n",
              "          '<a target=\"_blank\" href=https://colab.research.google.com/notebooks/data_table.ipynb>data table notebook</a>'\n",
              "          + ' to learn more about interactive tables.';\n",
              "        element.innerHTML = '';\n",
              "        dataTable['output_type'] = 'display_data';\n",
              "        await google.colab.output.renderOutput(dataTable, element);\n",
              "        const docLink = document.createElement('div');\n",
              "        docLink.innerHTML = docLinkHtml;\n",
              "        element.appendChild(docLink);\n",
              "      }\n",
              "    </script>\n",
              "  </div>\n",
              "\n",
              "\n",
              "<div id=\"df-41f785d8-abda-47b0-9eaa-80225970d9b2\">\n",
              "  <button class=\"colab-df-quickchart\" onclick=\"quickchart('df-41f785d8-abda-47b0-9eaa-80225970d9b2')\"\n",
              "            title=\"Suggest charts\"\n",
              "            style=\"display:none;\">\n",
              "\n",
              "<svg xmlns=\"http://www.w3.org/2000/svg\" height=\"24px\"viewBox=\"0 0 24 24\"\n",
              "     width=\"24px\">\n",
              "    <g>\n",
              "        <path d=\"M19 3H5c-1.1 0-2 .9-2 2v14c0 1.1.9 2 2 2h14c1.1 0 2-.9 2-2V5c0-1.1-.9-2-2-2zM9 17H7v-7h2v7zm4 0h-2V7h2v10zm4 0h-2v-4h2v4z\"/>\n",
              "    </g>\n",
              "</svg>\n",
              "  </button>\n",
              "\n",
              "<style>\n",
              "  .colab-df-quickchart {\n",
              "      --bg-color: #E8F0FE;\n",
              "      --fill-color: #1967D2;\n",
              "      --hover-bg-color: #E2EBFA;\n",
              "      --hover-fill-color: #174EA6;\n",
              "      --disabled-fill-color: #AAA;\n",
              "      --disabled-bg-color: #DDD;\n",
              "  }\n",
              "\n",
              "  [theme=dark] .colab-df-quickchart {\n",
              "      --bg-color: #3B4455;\n",
              "      --fill-color: #D2E3FC;\n",
              "      --hover-bg-color: #434B5C;\n",
              "      --hover-fill-color: #FFFFFF;\n",
              "      --disabled-bg-color: #3B4455;\n",
              "      --disabled-fill-color: #666;\n",
              "  }\n",
              "\n",
              "  .colab-df-quickchart {\n",
              "    background-color: var(--bg-color);\n",
              "    border: none;\n",
              "    border-radius: 50%;\n",
              "    cursor: pointer;\n",
              "    display: none;\n",
              "    fill: var(--fill-color);\n",
              "    height: 32px;\n",
              "    padding: 0;\n",
              "    width: 32px;\n",
              "  }\n",
              "\n",
              "  .colab-df-quickchart:hover {\n",
              "    background-color: var(--hover-bg-color);\n",
              "    box-shadow: 0 1px 2px rgba(60, 64, 67, 0.3), 0 1px 3px 1px rgba(60, 64, 67, 0.15);\n",
              "    fill: var(--button-hover-fill-color);\n",
              "  }\n",
              "\n",
              "  .colab-df-quickchart-complete:disabled,\n",
              "  .colab-df-quickchart-complete:disabled:hover {\n",
              "    background-color: var(--disabled-bg-color);\n",
              "    fill: var(--disabled-fill-color);\n",
              "    box-shadow: none;\n",
              "  }\n",
              "\n",
              "  .colab-df-spinner {\n",
              "    border: 2px solid var(--fill-color);\n",
              "    border-color: transparent;\n",
              "    border-bottom-color: var(--fill-color);\n",
              "    animation:\n",
              "      spin 1s steps(1) infinite;\n",
              "  }\n",
              "\n",
              "  @keyframes spin {\n",
              "    0% {\n",
              "      border-color: transparent;\n",
              "      border-bottom-color: var(--fill-color);\n",
              "      border-left-color: var(--fill-color);\n",
              "    }\n",
              "    20% {\n",
              "      border-color: transparent;\n",
              "      border-left-color: var(--fill-color);\n",
              "      border-top-color: var(--fill-color);\n",
              "    }\n",
              "    30% {\n",
              "      border-color: transparent;\n",
              "      border-left-color: var(--fill-color);\n",
              "      border-top-color: var(--fill-color);\n",
              "      border-right-color: var(--fill-color);\n",
              "    }\n",
              "    40% {\n",
              "      border-color: transparent;\n",
              "      border-right-color: var(--fill-color);\n",
              "      border-top-color: var(--fill-color);\n",
              "    }\n",
              "    60% {\n",
              "      border-color: transparent;\n",
              "      border-right-color: var(--fill-color);\n",
              "    }\n",
              "    80% {\n",
              "      border-color: transparent;\n",
              "      border-right-color: var(--fill-color);\n",
              "      border-bottom-color: var(--fill-color);\n",
              "    }\n",
              "    90% {\n",
              "      border-color: transparent;\n",
              "      border-bottom-color: var(--fill-color);\n",
              "    }\n",
              "  }\n",
              "</style>\n",
              "\n",
              "  <script>\n",
              "    async function quickchart(key) {\n",
              "      const quickchartButtonEl =\n",
              "        document.querySelector('#' + key + ' button');\n",
              "      quickchartButtonEl.disabled = true;  // To prevent multiple clicks.\n",
              "      quickchartButtonEl.classList.add('colab-df-spinner');\n",
              "      try {\n",
              "        const charts = await google.colab.kernel.invokeFunction(\n",
              "            'suggestCharts', [key], {});\n",
              "      } catch (error) {\n",
              "        console.error('Error during call to suggestCharts:', error);\n",
              "      }\n",
              "      quickchartButtonEl.classList.remove('colab-df-spinner');\n",
              "      quickchartButtonEl.classList.add('colab-df-quickchart-complete');\n",
              "    }\n",
              "    (() => {\n",
              "      let quickchartButtonEl =\n",
              "        document.querySelector('#df-41f785d8-abda-47b0-9eaa-80225970d9b2 button');\n",
              "      quickchartButtonEl.style.display =\n",
              "        google.colab.kernel.accessAllowed ? 'block' : 'none';\n",
              "    })();\n",
              "  </script>\n",
              "</div>\n",
              "    </div>\n",
              "  </div>\n"
            ]
          },
          "metadata": {},
          "execution_count": 25
        }
      ]
    },
    {
      "cell_type": "code",
      "metadata": {
        "colab": {
          "base_uri": "https://localhost:8080/",
          "height": 1000,
          "referenced_widgets": [
            "64e7e98b13c547e4b62883334c0f4e03",
            "828d0418fa534006a25fe1026a4cb951",
            "72f2f4b9241149a5b53aeeff44f55243",
            "ec44eb93fb3645a485d889e81b4dd7fe",
            "3b0e65f077484142a105df611c7d19c2",
            "cc9a09050c36476e8a831966cdf5fb35",
            "5f707851f54a4943b372eccc68f1a09c",
            "62db752c5f9543038d9f2c5296b11e3c",
            "496534f346584cadb961b3e3d88a84d0",
            "baa303c2a2eb42cb869f8aeea31f881e",
            "5ce831e8052b4f1f99faac93209d4fe0"
          ]
        },
        "id": "z7RHlv_W6M5h",
        "outputId": "f6a750a4-a8de-42f1-ba42-18f9d4f8b46a"
      },
      "source": [
        "# can take several minutes for a few bootstraps of 8 variables up to quadratic interactions\n",
        "dir_name = google_drive_dir+'saved_stats'\n",
        "if not os.path.exists(dir_name):\n",
        "        os.mkdir(dir_name)\n",
        "\n",
        "stats_reals = compute_stats(reals)\n",
        "file_name =os.path.join(dir_name,'stats_reals__n_vars='+str(n_vars)+'__incl_soil='+str(incl_soil)+'.parquet.gzip')\n",
        "stats_reals.to_parquet(file_name,compression='gzip')"
      ],
      "execution_count": 26,
      "outputs": [
        {
          "output_type": "display_data",
          "data": {
            "text/plain": [
              "Computing probabilities ::   0%|          | 0/30 [00:00<?, ?it/s]"
            ],
            "application/vnd.jupyter.widget-view+json": {
              "version_major": 2,
              "version_minor": 0,
              "model_id": "64e7e98b13c547e4b62883334c0f4e03"
            }
          },
          "metadata": {}
        },
        {
          "output_type": "stream",
          "name": "stderr",
          "text": [
            "<ipython-input-19-2d065a7ea317>:16: FutureWarning: The frame.append method is deprecated and will be removed from pandas in a future version. Use pandas.concat instead.\n",
            "  temp=temp.append(pd.DataFrame([var_names[i],var_names[j],var_names[k]\n",
            "<ipython-input-19-2d065a7ea317>:16: FutureWarning: The frame.append method is deprecated and will be removed from pandas in a future version. Use pandas.concat instead.\n",
            "  temp=temp.append(pd.DataFrame([var_names[i],var_names[j],var_names[k]\n",
            "<ipython-input-19-2d065a7ea317>:16: FutureWarning: The frame.append method is deprecated and will be removed from pandas in a future version. Use pandas.concat instead.\n",
            "  temp=temp.append(pd.DataFrame([var_names[i],var_names[j],var_names[k]\n",
            "<ipython-input-19-2d065a7ea317>:16: FutureWarning: The frame.append method is deprecated and will be removed from pandas in a future version. Use pandas.concat instead.\n",
            "  temp=temp.append(pd.DataFrame([var_names[i],var_names[j],var_names[k]\n",
            "<ipython-input-19-2d065a7ea317>:16: FutureWarning: The frame.append method is deprecated and will be removed from pandas in a future version. Use pandas.concat instead.\n",
            "  temp=temp.append(pd.DataFrame([var_names[i],var_names[j],var_names[k]\n",
            "<ipython-input-19-2d065a7ea317>:16: FutureWarning: The frame.append method is deprecated and will be removed from pandas in a future version. Use pandas.concat instead.\n",
            "  temp=temp.append(pd.DataFrame([var_names[i],var_names[j],var_names[k]\n",
            "<ipython-input-19-2d065a7ea317>:16: FutureWarning: The frame.append method is deprecated and will be removed from pandas in a future version. Use pandas.concat instead.\n",
            "  temp=temp.append(pd.DataFrame([var_names[i],var_names[j],var_names[k]\n",
            "<ipython-input-19-2d065a7ea317>:16: FutureWarning: The frame.append method is deprecated and will be removed from pandas in a future version. Use pandas.concat instead.\n",
            "  temp=temp.append(pd.DataFrame([var_names[i],var_names[j],var_names[k]\n",
            "<ipython-input-19-2d065a7ea317>:16: FutureWarning: The frame.append method is deprecated and will be removed from pandas in a future version. Use pandas.concat instead.\n",
            "  temp=temp.append(pd.DataFrame([var_names[i],var_names[j],var_names[k]\n",
            "<ipython-input-19-2d065a7ea317>:16: FutureWarning: The frame.append method is deprecated and will be removed from pandas in a future version. Use pandas.concat instead.\n",
            "  temp=temp.append(pd.DataFrame([var_names[i],var_names[j],var_names[k]\n",
            "<ipython-input-19-2d065a7ea317>:16: FutureWarning: The frame.append method is deprecated and will be removed from pandas in a future version. Use pandas.concat instead.\n",
            "  temp=temp.append(pd.DataFrame([var_names[i],var_names[j],var_names[k]\n",
            "<ipython-input-19-2d065a7ea317>:16: FutureWarning: The frame.append method is deprecated and will be removed from pandas in a future version. Use pandas.concat instead.\n",
            "  temp=temp.append(pd.DataFrame([var_names[i],var_names[j],var_names[k]\n",
            "<ipython-input-19-2d065a7ea317>:16: FutureWarning: The frame.append method is deprecated and will be removed from pandas in a future version. Use pandas.concat instead.\n",
            "  temp=temp.append(pd.DataFrame([var_names[i],var_names[j],var_names[k]\n",
            "<ipython-input-19-2d065a7ea317>:16: FutureWarning: The frame.append method is deprecated and will be removed from pandas in a future version. Use pandas.concat instead.\n",
            "  temp=temp.append(pd.DataFrame([var_names[i],var_names[j],var_names[k]\n",
            "<ipython-input-19-2d065a7ea317>:16: FutureWarning: The frame.append method is deprecated and will be removed from pandas in a future version. Use pandas.concat instead.\n",
            "  temp=temp.append(pd.DataFrame([var_names[i],var_names[j],var_names[k]\n",
            "<ipython-input-19-2d065a7ea317>:16: FutureWarning: The frame.append method is deprecated and will be removed from pandas in a future version. Use pandas.concat instead.\n",
            "  temp=temp.append(pd.DataFrame([var_names[i],var_names[j],var_names[k]\n",
            "<ipython-input-19-2d065a7ea317>:16: FutureWarning: The frame.append method is deprecated and will be removed from pandas in a future version. Use pandas.concat instead.\n",
            "  temp=temp.append(pd.DataFrame([var_names[i],var_names[j],var_names[k]\n",
            "<ipython-input-19-2d065a7ea317>:16: FutureWarning: The frame.append method is deprecated and will be removed from pandas in a future version. Use pandas.concat instead.\n",
            "  temp=temp.append(pd.DataFrame([var_names[i],var_names[j],var_names[k]\n",
            "<ipython-input-19-2d065a7ea317>:16: FutureWarning: The frame.append method is deprecated and will be removed from pandas in a future version. Use pandas.concat instead.\n",
            "  temp=temp.append(pd.DataFrame([var_names[i],var_names[j],var_names[k]\n",
            "<ipython-input-19-2d065a7ea317>:16: FutureWarning: The frame.append method is deprecated and will be removed from pandas in a future version. Use pandas.concat instead.\n",
            "  temp=temp.append(pd.DataFrame([var_names[i],var_names[j],var_names[k]\n",
            "<ipython-input-19-2d065a7ea317>:16: FutureWarning: The frame.append method is deprecated and will be removed from pandas in a future version. Use pandas.concat instead.\n",
            "  temp=temp.append(pd.DataFrame([var_names[i],var_names[j],var_names[k]\n",
            "<ipython-input-19-2d065a7ea317>:16: FutureWarning: The frame.append method is deprecated and will be removed from pandas in a future version. Use pandas.concat instead.\n",
            "  temp=temp.append(pd.DataFrame([var_names[i],var_names[j],var_names[k]\n",
            "<ipython-input-19-2d065a7ea317>:16: FutureWarning: The frame.append method is deprecated and will be removed from pandas in a future version. Use pandas.concat instead.\n",
            "  temp=temp.append(pd.DataFrame([var_names[i],var_names[j],var_names[k]\n",
            "<ipython-input-19-2d065a7ea317>:16: FutureWarning: The frame.append method is deprecated and will be removed from pandas in a future version. Use pandas.concat instead.\n",
            "  temp=temp.append(pd.DataFrame([var_names[i],var_names[j],var_names[k]\n",
            "<ipython-input-19-2d065a7ea317>:16: FutureWarning: The frame.append method is deprecated and will be removed from pandas in a future version. Use pandas.concat instead.\n",
            "  temp=temp.append(pd.DataFrame([var_names[i],var_names[j],var_names[k]\n",
            "<ipython-input-19-2d065a7ea317>:16: FutureWarning: The frame.append method is deprecated and will be removed from pandas in a future version. Use pandas.concat instead.\n",
            "  temp=temp.append(pd.DataFrame([var_names[i],var_names[j],var_names[k]\n",
            "<ipython-input-19-2d065a7ea317>:16: FutureWarning: The frame.append method is deprecated and will be removed from pandas in a future version. Use pandas.concat instead.\n",
            "  temp=temp.append(pd.DataFrame([var_names[i],var_names[j],var_names[k]\n",
            "<ipython-input-19-2d065a7ea317>:16: FutureWarning: The frame.append method is deprecated and will be removed from pandas in a future version. Use pandas.concat instead.\n",
            "  temp=temp.append(pd.DataFrame([var_names[i],var_names[j],var_names[k]\n",
            "<ipython-input-19-2d065a7ea317>:16: FutureWarning: The frame.append method is deprecated and will be removed from pandas in a future version. Use pandas.concat instead.\n",
            "  temp=temp.append(pd.DataFrame([var_names[i],var_names[j],var_names[k]\n",
            "<ipython-input-19-2d065a7ea317>:16: FutureWarning: The frame.append method is deprecated and will be removed from pandas in a future version. Use pandas.concat instead.\n",
            "  temp=temp.append(pd.DataFrame([var_names[i],var_names[j],var_names[k]\n"
          ]
        }
      ]
    },
    {
      "cell_type": "markdown",
      "metadata": {
        "id": "e24NiizdISmI"
      },
      "source": [
        "# Summary of Outputs produced"
      ]
    },
    {
      "cell_type": "markdown",
      "metadata": {
        "id": "bBfQ_1eDDssF"
      },
      "source": [
        "Different directories have been created at this point:\n",
        "\n",
        "* **saved_reals** : Real data patches (real data)\n",
        "* **images_for_GAN_training** : image representation of the patches measured (real data)\n",
        "* **saved_fakes** : includes output of running GAN (simulated data)\n",
        "* **models**      : model output of the training\n",
        "* **saved_stats** : Statistical analysis of the real and fake patches\n",
        "\n",
        "Already existing in GIT **saved_stats** directory will be used in the additional notebook\n"
      ]
    },
    {
      "cell_type": "code",
      "metadata": {
        "id": "WsAIrAAQDeI7",
        "colab": {
          "base_uri": "https://localhost:8080/"
        },
        "outputId": "91d8af6f-2abd-41cc-a7e0-0d820d2ffbec"
      },
      "source": [
        "!ls -ltr \"$google_drive_dir\""
      ],
      "execution_count": 23,
      "outputs": [
        {
          "output_type": "stream",
          "name": "stdout",
          "text": [
            "total 20\n",
            "drwx------ 2 root root 4096 Jan 17 08:04 saved_reals\n",
            "drwx------ 3 root root 4096 Jan 17 08:17 images_for_GAN_training\n",
            "drwx------ 2 root root 4096 Jan 17 09:12 saved_fakes\n",
            "drwx------ 2 root root 4096 Jan 17 09:12 models\n",
            "drwx------ 2 root root 4096 Jan 17 09:38 saved_stats\n"
          ]
        }
      ]
    },
    {
      "cell_type": "code",
      "source": [
        "print(generator)"
      ],
      "metadata": {
        "id": "HLk3HOfw1jdm",
        "outputId": "c6c38612-70e5-4959-afe8-114701575a7a",
        "colab": {
          "base_uri": "https://localhost:8080/"
        }
      },
      "execution_count": 27,
      "outputs": [
        {
          "output_type": "stream",
          "name": "stdout",
          "text": [
            "Sequential(\n",
            "  (0): AddChannels()\n",
            "  (1): ConvLayer(\n",
            "    (0): ConvTranspose2d(6, 64, kernel_size=(4, 4), stride=(1, 1), bias=False)\n",
            "    (1): BatchNorm2d(64, eps=1e-05, momentum=0.1, affine=True, track_running_stats=True)\n",
            "    (2): ReLU()\n",
            "  )\n",
            "  (2): ConvLayer(\n",
            "    (0): ConvTranspose2d(64, 64, kernel_size=(3, 3), stride=(1, 1), padding=(1, 1), bias=False)\n",
            "    (1): BatchNorm2d(64, eps=1e-05, momentum=0.1, affine=True, track_running_stats=True)\n",
            "    (2): ReLU()\n",
            "  )\n",
            "  (3): ConvTranspose2d(64, 3, kernel_size=(4, 4), stride=(2, 2), padding=(1, 1), bias=False)\n",
            "  (4): Tanh()\n",
            ")\n"
          ]
        }
      ]
    }
  ]
}